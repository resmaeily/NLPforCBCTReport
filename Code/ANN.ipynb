{
  "cells": [
    {
      "cell_type": "markdown",
      "metadata": {
        "id": "Sb_B747_1W1U"
      },
      "source": [
        "###Importing Libraries :"
      ]
    },
    {
      "cell_type": "code",
      "execution_count": 2,
      "metadata": {
        "id": "BSIyvAaNCO9U"
      },
      "outputs": [],
      "source": [
        "import os\n",
        "import pandas as pd\n",
        "import numpy as np\n",
        "import seaborn as sns\n",
        "import matplotlib.pyplot as plt\n",
        "import seaborn as sns\n",
        "from sklearn.neural_network import MLPClassifier\n",
        "from sklearn.model_selection import train_test_split\n",
        "from sklearn.metrics import confusion_matrix, classification_report\n",
        "from sklearn.preprocessing import StandardScaler\n",
        "from keras.models import Sequential\n",
        "from keras.layers import Dense, Conv1D, Flatten, LSTM\n",
        "from tensorflow.keras.utils import to_categorical\n",
        "\n",
        "%matplotlib inline"
      ]
    },
    {
      "cell_type": "markdown",
      "metadata": {
        "id": "dhk0PpwDc8pB"
      },
      "source": [
        "###Loading Data:"
      ]
    },
    {
      "cell_type": "code",
      "execution_count": 3,
      "metadata": {
        "colab": {
          "base_uri": "https://localhost:8080/"
        },
        "id": "JtZuAsVCCaD6",
        "outputId": "7ed2080e-43ae-474e-f3d0-cb4f99fea343"
      },
      "outputs": [
        {
          "output_type": "stream",
          "name": "stdout",
          "text": [
            "Mounted at /content/drive\n"
          ]
        }
      ],
      "source": [
        "from google.colab import drive\n",
        "drive.mount('/content/drive')"
      ]
    },
    {
      "cell_type": "code",
      "execution_count": 17,
      "metadata": {
        "id": "k9WX3wpcJC2t"
      },
      "outputs": [],
      "source": [
        "df = pd.read_excel('/content/drive/MyDrive/dataset.xlsx')"
      ]
    },
    {
      "cell_type": "code",
      "source": [
        "df"
      ],
      "metadata": {
        "colab": {
          "base_uri": "https://localhost:8080/",
          "height": 423
        },
        "id": "oEFFkc0K3Bv1",
        "outputId": "f4076cea-984e-46c5-9984-6a9b8fd7eb31"
      },
      "execution_count": 18,
      "outputs": [
        {
          "output_type": "execute_result",
          "data": {
            "text/plain": [
              "                                                Report  scor       Date  \\\n",
              "0    The left mandibular third molar tooth has 2 ro...     9   98.08.27   \n",
              "1    In the right side:\\nThe tooth has two roots.\\n...    11   07.10.98   \n",
              "2    In the left side:\\nThe tooth has two roots.\\nT...    10   07.10.99   \n",
              "3    The tooth has two roots.\\nThere is no signific...     6   98.10.14   \n",
              "4    In the right sides:\\nThere are three root apic...    12   98.11.21   \n",
              "..                                                 ...   ...        ...   \n",
              "142  The tooth has two roots.\\nThere is no signific...     8    99.3.21   \n",
              "143  The tooth has two fused roots.\\nThere is dilac...    12   98.11.27   \n",
              "144  The third molars are oriented in horizontal fa...     8  1400.2.22   \n",
              "145  In both sides  there are two roots.\\nNo resorp...     8    99.11.4   \n",
              "146  Third molar teeth have two roots. \\nThere is n...    11    99.12.6   \n",
              "\n",
              "     Unnamed: 3  Unnamed: 4  Unnamed: 5             m  n             c  \\\n",
              "0           NaN         NaN         NaN  mesioangular  2  dilaceration   \n",
              "1           NaN         NaN         NaN      vertical  2  dilaceration   \n",
              "2           NaN         NaN         NaN    horizontal  2  dilaceration   \n",
              "3           NaN         NaN         NaN  mesioangular  2      straight   \n",
              "4           NaN         NaN         NaN  distoangular  3      straight   \n",
              "..          ...         ...         ...           ... ..           ...   \n",
              "142         NaN         NaN         NaN  mesioangular  2      straight   \n",
              "143         NaN         NaN         NaN  distoangular  2  dilaceration   \n",
              "144         NaN         NaN         NaN    horizontal  1      straight   \n",
              "145         NaN         NaN         NaN  mesioangular  2      straight   \n",
              "146         NaN         NaN         NaN  distoangular  2      straight   \n",
              "\n",
              "           r score  \n",
              "0    contact    D2  \n",
              "1    contact    D3  \n",
              "2    contact    D3  \n",
              "3        far    D1  \n",
              "4    contact    D4  \n",
              "..       ...   ...  \n",
              "142  contact    D2  \n",
              "143  contact    D4  \n",
              "144  contact    D2  \n",
              "145  contact    D2  \n",
              "146  contact    D3  \n",
              "\n",
              "[147 rows x 11 columns]"
            ],
            "text/html": [
              "\n",
              "  <div id=\"df-b074b7c3-b280-4a27-846c-2032b0627727\">\n",
              "    <div class=\"colab-df-container\">\n",
              "      <div>\n",
              "<style scoped>\n",
              "    .dataframe tbody tr th:only-of-type {\n",
              "        vertical-align: middle;\n",
              "    }\n",
              "\n",
              "    .dataframe tbody tr th {\n",
              "        vertical-align: top;\n",
              "    }\n",
              "\n",
              "    .dataframe thead th {\n",
              "        text-align: right;\n",
              "    }\n",
              "</style>\n",
              "<table border=\"1\" class=\"dataframe\">\n",
              "  <thead>\n",
              "    <tr style=\"text-align: right;\">\n",
              "      <th></th>\n",
              "      <th>Report</th>\n",
              "      <th>scor</th>\n",
              "      <th>Date</th>\n",
              "      <th>Unnamed: 3</th>\n",
              "      <th>Unnamed: 4</th>\n",
              "      <th>Unnamed: 5</th>\n",
              "      <th>m</th>\n",
              "      <th>n</th>\n",
              "      <th>c</th>\n",
              "      <th>r</th>\n",
              "      <th>score</th>\n",
              "    </tr>\n",
              "  </thead>\n",
              "  <tbody>\n",
              "    <tr>\n",
              "      <th>0</th>\n",
              "      <td>The left mandibular third molar tooth has 2 ro...</td>\n",
              "      <td>9</td>\n",
              "      <td>98.08.27</td>\n",
              "      <td>NaN</td>\n",
              "      <td>NaN</td>\n",
              "      <td>NaN</td>\n",
              "      <td>mesioangular</td>\n",
              "      <td>2</td>\n",
              "      <td>dilaceration</td>\n",
              "      <td>contact</td>\n",
              "      <td>D2</td>\n",
              "    </tr>\n",
              "    <tr>\n",
              "      <th>1</th>\n",
              "      <td>In the right side:\\nThe tooth has two roots.\\n...</td>\n",
              "      <td>11</td>\n",
              "      <td>07.10.98</td>\n",
              "      <td>NaN</td>\n",
              "      <td>NaN</td>\n",
              "      <td>NaN</td>\n",
              "      <td>vertical</td>\n",
              "      <td>2</td>\n",
              "      <td>dilaceration</td>\n",
              "      <td>contact</td>\n",
              "      <td>D3</td>\n",
              "    </tr>\n",
              "    <tr>\n",
              "      <th>2</th>\n",
              "      <td>In the left side:\\nThe tooth has two roots.\\nT...</td>\n",
              "      <td>10</td>\n",
              "      <td>07.10.99</td>\n",
              "      <td>NaN</td>\n",
              "      <td>NaN</td>\n",
              "      <td>NaN</td>\n",
              "      <td>horizontal</td>\n",
              "      <td>2</td>\n",
              "      <td>dilaceration</td>\n",
              "      <td>contact</td>\n",
              "      <td>D3</td>\n",
              "    </tr>\n",
              "    <tr>\n",
              "      <th>3</th>\n",
              "      <td>The tooth has two roots.\\nThere is no signific...</td>\n",
              "      <td>6</td>\n",
              "      <td>98.10.14</td>\n",
              "      <td>NaN</td>\n",
              "      <td>NaN</td>\n",
              "      <td>NaN</td>\n",
              "      <td>mesioangular</td>\n",
              "      <td>2</td>\n",
              "      <td>straight</td>\n",
              "      <td>far</td>\n",
              "      <td>D1</td>\n",
              "    </tr>\n",
              "    <tr>\n",
              "      <th>4</th>\n",
              "      <td>In the right sides:\\nThere are three root apic...</td>\n",
              "      <td>12</td>\n",
              "      <td>98.11.21</td>\n",
              "      <td>NaN</td>\n",
              "      <td>NaN</td>\n",
              "      <td>NaN</td>\n",
              "      <td>distoangular</td>\n",
              "      <td>3</td>\n",
              "      <td>straight</td>\n",
              "      <td>contact</td>\n",
              "      <td>D4</td>\n",
              "    </tr>\n",
              "    <tr>\n",
              "      <th>...</th>\n",
              "      <td>...</td>\n",
              "      <td>...</td>\n",
              "      <td>...</td>\n",
              "      <td>...</td>\n",
              "      <td>...</td>\n",
              "      <td>...</td>\n",
              "      <td>...</td>\n",
              "      <td>...</td>\n",
              "      <td>...</td>\n",
              "      <td>...</td>\n",
              "      <td>...</td>\n",
              "    </tr>\n",
              "    <tr>\n",
              "      <th>142</th>\n",
              "      <td>The tooth has two roots.\\nThere is no signific...</td>\n",
              "      <td>8</td>\n",
              "      <td>99.3.21</td>\n",
              "      <td>NaN</td>\n",
              "      <td>NaN</td>\n",
              "      <td>NaN</td>\n",
              "      <td>mesioangular</td>\n",
              "      <td>2</td>\n",
              "      <td>straight</td>\n",
              "      <td>contact</td>\n",
              "      <td>D2</td>\n",
              "    </tr>\n",
              "    <tr>\n",
              "      <th>143</th>\n",
              "      <td>The tooth has two fused roots.\\nThere is dilac...</td>\n",
              "      <td>12</td>\n",
              "      <td>98.11.27</td>\n",
              "      <td>NaN</td>\n",
              "      <td>NaN</td>\n",
              "      <td>NaN</td>\n",
              "      <td>distoangular</td>\n",
              "      <td>2</td>\n",
              "      <td>dilaceration</td>\n",
              "      <td>contact</td>\n",
              "      <td>D4</td>\n",
              "    </tr>\n",
              "    <tr>\n",
              "      <th>144</th>\n",
              "      <td>The third molars are oriented in horizontal fa...</td>\n",
              "      <td>8</td>\n",
              "      <td>1400.2.22</td>\n",
              "      <td>NaN</td>\n",
              "      <td>NaN</td>\n",
              "      <td>NaN</td>\n",
              "      <td>horizontal</td>\n",
              "      <td>1</td>\n",
              "      <td>straight</td>\n",
              "      <td>contact</td>\n",
              "      <td>D2</td>\n",
              "    </tr>\n",
              "    <tr>\n",
              "      <th>145</th>\n",
              "      <td>In both sides  there are two roots.\\nNo resorp...</td>\n",
              "      <td>8</td>\n",
              "      <td>99.11.4</td>\n",
              "      <td>NaN</td>\n",
              "      <td>NaN</td>\n",
              "      <td>NaN</td>\n",
              "      <td>mesioangular</td>\n",
              "      <td>2</td>\n",
              "      <td>straight</td>\n",
              "      <td>contact</td>\n",
              "      <td>D2</td>\n",
              "    </tr>\n",
              "    <tr>\n",
              "      <th>146</th>\n",
              "      <td>Third molar teeth have two roots. \\nThere is n...</td>\n",
              "      <td>11</td>\n",
              "      <td>99.12.6</td>\n",
              "      <td>NaN</td>\n",
              "      <td>NaN</td>\n",
              "      <td>NaN</td>\n",
              "      <td>distoangular</td>\n",
              "      <td>2</td>\n",
              "      <td>straight</td>\n",
              "      <td>contact</td>\n",
              "      <td>D3</td>\n",
              "    </tr>\n",
              "  </tbody>\n",
              "</table>\n",
              "<p>147 rows × 11 columns</p>\n",
              "</div>\n",
              "      <button class=\"colab-df-convert\" onclick=\"convertToInteractive('df-b074b7c3-b280-4a27-846c-2032b0627727')\"\n",
              "              title=\"Convert this dataframe to an interactive table.\"\n",
              "              style=\"display:none;\">\n",
              "        \n",
              "  <svg xmlns=\"http://www.w3.org/2000/svg\" height=\"24px\"viewBox=\"0 0 24 24\"\n",
              "       width=\"24px\">\n",
              "    <path d=\"M0 0h24v24H0V0z\" fill=\"none\"/>\n",
              "    <path d=\"M18.56 5.44l.94 2.06.94-2.06 2.06-.94-2.06-.94-.94-2.06-.94 2.06-2.06.94zm-11 1L8.5 8.5l.94-2.06 2.06-.94-2.06-.94L8.5 2.5l-.94 2.06-2.06.94zm10 10l.94 2.06.94-2.06 2.06-.94-2.06-.94-.94-2.06-.94 2.06-2.06.94z\"/><path d=\"M17.41 7.96l-1.37-1.37c-.4-.4-.92-.59-1.43-.59-.52 0-1.04.2-1.43.59L10.3 9.45l-7.72 7.72c-.78.78-.78 2.05 0 2.83L4 21.41c.39.39.9.59 1.41.59.51 0 1.02-.2 1.41-.59l7.78-7.78 2.81-2.81c.8-.78.8-2.07 0-2.86zM5.41 20L4 18.59l7.72-7.72 1.47 1.35L5.41 20z\"/>\n",
              "  </svg>\n",
              "      </button>\n",
              "      \n",
              "  <style>\n",
              "    .colab-df-container {\n",
              "      display:flex;\n",
              "      flex-wrap:wrap;\n",
              "      gap: 12px;\n",
              "    }\n",
              "\n",
              "    .colab-df-convert {\n",
              "      background-color: #E8F0FE;\n",
              "      border: none;\n",
              "      border-radius: 50%;\n",
              "      cursor: pointer;\n",
              "      display: none;\n",
              "      fill: #1967D2;\n",
              "      height: 32px;\n",
              "      padding: 0 0 0 0;\n",
              "      width: 32px;\n",
              "    }\n",
              "\n",
              "    .colab-df-convert:hover {\n",
              "      background-color: #E2EBFA;\n",
              "      box-shadow: 0px 1px 2px rgba(60, 64, 67, 0.3), 0px 1px 3px 1px rgba(60, 64, 67, 0.15);\n",
              "      fill: #174EA6;\n",
              "    }\n",
              "\n",
              "    [theme=dark] .colab-df-convert {\n",
              "      background-color: #3B4455;\n",
              "      fill: #D2E3FC;\n",
              "    }\n",
              "\n",
              "    [theme=dark] .colab-df-convert:hover {\n",
              "      background-color: #434B5C;\n",
              "      box-shadow: 0px 1px 3px 1px rgba(0, 0, 0, 0.15);\n",
              "      filter: drop-shadow(0px 1px 2px rgba(0, 0, 0, 0.3));\n",
              "      fill: #FFFFFF;\n",
              "    }\n",
              "  </style>\n",
              "\n",
              "      <script>\n",
              "        const buttonEl =\n",
              "          document.querySelector('#df-b074b7c3-b280-4a27-846c-2032b0627727 button.colab-df-convert');\n",
              "        buttonEl.style.display =\n",
              "          google.colab.kernel.accessAllowed ? 'block' : 'none';\n",
              "\n",
              "        async function convertToInteractive(key) {\n",
              "          const element = document.querySelector('#df-b074b7c3-b280-4a27-846c-2032b0627727');\n",
              "          const dataTable =\n",
              "            await google.colab.kernel.invokeFunction('convertToInteractive',\n",
              "                                                     [key], {});\n",
              "          if (!dataTable) return;\n",
              "\n",
              "          const docLinkHtml = 'Like what you see? Visit the ' +\n",
              "            '<a target=\"_blank\" href=https://colab.research.google.com/notebooks/data_table.ipynb>data table notebook</a>'\n",
              "            + ' to learn more about interactive tables.';\n",
              "          element.innerHTML = '';\n",
              "          dataTable['output_type'] = 'display_data';\n",
              "          await google.colab.output.renderOutput(dataTable, element);\n",
              "          const docLink = document.createElement('div');\n",
              "          docLink.innerHTML = docLinkHtml;\n",
              "          element.appendChild(docLink);\n",
              "        }\n",
              "      </script>\n",
              "    </div>\n",
              "  </div>\n",
              "  "
            ]
          },
          "metadata": {},
          "execution_count": 18
        }
      ]
    },
    {
      "cell_type": "code",
      "source": [
        "df= df.iloc[:, 6: ]\n",
        "df"
      ],
      "metadata": {
        "colab": {
          "base_uri": "https://localhost:8080/",
          "height": 423
        },
        "id": "BA8etasLbDqT",
        "outputId": "11e4e65e-16e8-4def-975c-ca47b1aa0618"
      },
      "execution_count": 19,
      "outputs": [
        {
          "output_type": "execute_result",
          "data": {
            "text/plain": [
              "                m  n             c        r score\n",
              "0    mesioangular  2  dilaceration  contact    D2\n",
              "1        vertical  2  dilaceration  contact    D3\n",
              "2      horizontal  2  dilaceration  contact    D3\n",
              "3    mesioangular  2      straight      far    D1\n",
              "4    distoangular  3      straight  contact    D4\n",
              "..            ... ..           ...      ...   ...\n",
              "142  mesioangular  2      straight  contact    D2\n",
              "143  distoangular  2  dilaceration  contact    D4\n",
              "144    horizontal  1      straight  contact    D2\n",
              "145  mesioangular  2      straight  contact    D2\n",
              "146  distoangular  2      straight  contact    D3\n",
              "\n",
              "[147 rows x 5 columns]"
            ],
            "text/html": [
              "\n",
              "  <div id=\"df-41bae1a7-675b-405b-9edb-3c0fc7715aac\">\n",
              "    <div class=\"colab-df-container\">\n",
              "      <div>\n",
              "<style scoped>\n",
              "    .dataframe tbody tr th:only-of-type {\n",
              "        vertical-align: middle;\n",
              "    }\n",
              "\n",
              "    .dataframe tbody tr th {\n",
              "        vertical-align: top;\n",
              "    }\n",
              "\n",
              "    .dataframe thead th {\n",
              "        text-align: right;\n",
              "    }\n",
              "</style>\n",
              "<table border=\"1\" class=\"dataframe\">\n",
              "  <thead>\n",
              "    <tr style=\"text-align: right;\">\n",
              "      <th></th>\n",
              "      <th>m</th>\n",
              "      <th>n</th>\n",
              "      <th>c</th>\n",
              "      <th>r</th>\n",
              "      <th>score</th>\n",
              "    </tr>\n",
              "  </thead>\n",
              "  <tbody>\n",
              "    <tr>\n",
              "      <th>0</th>\n",
              "      <td>mesioangular</td>\n",
              "      <td>2</td>\n",
              "      <td>dilaceration</td>\n",
              "      <td>contact</td>\n",
              "      <td>D2</td>\n",
              "    </tr>\n",
              "    <tr>\n",
              "      <th>1</th>\n",
              "      <td>vertical</td>\n",
              "      <td>2</td>\n",
              "      <td>dilaceration</td>\n",
              "      <td>contact</td>\n",
              "      <td>D3</td>\n",
              "    </tr>\n",
              "    <tr>\n",
              "      <th>2</th>\n",
              "      <td>horizontal</td>\n",
              "      <td>2</td>\n",
              "      <td>dilaceration</td>\n",
              "      <td>contact</td>\n",
              "      <td>D3</td>\n",
              "    </tr>\n",
              "    <tr>\n",
              "      <th>3</th>\n",
              "      <td>mesioangular</td>\n",
              "      <td>2</td>\n",
              "      <td>straight</td>\n",
              "      <td>far</td>\n",
              "      <td>D1</td>\n",
              "    </tr>\n",
              "    <tr>\n",
              "      <th>4</th>\n",
              "      <td>distoangular</td>\n",
              "      <td>3</td>\n",
              "      <td>straight</td>\n",
              "      <td>contact</td>\n",
              "      <td>D4</td>\n",
              "    </tr>\n",
              "    <tr>\n",
              "      <th>...</th>\n",
              "      <td>...</td>\n",
              "      <td>...</td>\n",
              "      <td>...</td>\n",
              "      <td>...</td>\n",
              "      <td>...</td>\n",
              "    </tr>\n",
              "    <tr>\n",
              "      <th>142</th>\n",
              "      <td>mesioangular</td>\n",
              "      <td>2</td>\n",
              "      <td>straight</td>\n",
              "      <td>contact</td>\n",
              "      <td>D2</td>\n",
              "    </tr>\n",
              "    <tr>\n",
              "      <th>143</th>\n",
              "      <td>distoangular</td>\n",
              "      <td>2</td>\n",
              "      <td>dilaceration</td>\n",
              "      <td>contact</td>\n",
              "      <td>D4</td>\n",
              "    </tr>\n",
              "    <tr>\n",
              "      <th>144</th>\n",
              "      <td>horizontal</td>\n",
              "      <td>1</td>\n",
              "      <td>straight</td>\n",
              "      <td>contact</td>\n",
              "      <td>D2</td>\n",
              "    </tr>\n",
              "    <tr>\n",
              "      <th>145</th>\n",
              "      <td>mesioangular</td>\n",
              "      <td>2</td>\n",
              "      <td>straight</td>\n",
              "      <td>contact</td>\n",
              "      <td>D2</td>\n",
              "    </tr>\n",
              "    <tr>\n",
              "      <th>146</th>\n",
              "      <td>distoangular</td>\n",
              "      <td>2</td>\n",
              "      <td>straight</td>\n",
              "      <td>contact</td>\n",
              "      <td>D3</td>\n",
              "    </tr>\n",
              "  </tbody>\n",
              "</table>\n",
              "<p>147 rows × 5 columns</p>\n",
              "</div>\n",
              "      <button class=\"colab-df-convert\" onclick=\"convertToInteractive('df-41bae1a7-675b-405b-9edb-3c0fc7715aac')\"\n",
              "              title=\"Convert this dataframe to an interactive table.\"\n",
              "              style=\"display:none;\">\n",
              "        \n",
              "  <svg xmlns=\"http://www.w3.org/2000/svg\" height=\"24px\"viewBox=\"0 0 24 24\"\n",
              "       width=\"24px\">\n",
              "    <path d=\"M0 0h24v24H0V0z\" fill=\"none\"/>\n",
              "    <path d=\"M18.56 5.44l.94 2.06.94-2.06 2.06-.94-2.06-.94-.94-2.06-.94 2.06-2.06.94zm-11 1L8.5 8.5l.94-2.06 2.06-.94-2.06-.94L8.5 2.5l-.94 2.06-2.06.94zm10 10l.94 2.06.94-2.06 2.06-.94-2.06-.94-.94-2.06-.94 2.06-2.06.94z\"/><path d=\"M17.41 7.96l-1.37-1.37c-.4-.4-.92-.59-1.43-.59-.52 0-1.04.2-1.43.59L10.3 9.45l-7.72 7.72c-.78.78-.78 2.05 0 2.83L4 21.41c.39.39.9.59 1.41.59.51 0 1.02-.2 1.41-.59l7.78-7.78 2.81-2.81c.8-.78.8-2.07 0-2.86zM5.41 20L4 18.59l7.72-7.72 1.47 1.35L5.41 20z\"/>\n",
              "  </svg>\n",
              "      </button>\n",
              "      \n",
              "  <style>\n",
              "    .colab-df-container {\n",
              "      display:flex;\n",
              "      flex-wrap:wrap;\n",
              "      gap: 12px;\n",
              "    }\n",
              "\n",
              "    .colab-df-convert {\n",
              "      background-color: #E8F0FE;\n",
              "      border: none;\n",
              "      border-radius: 50%;\n",
              "      cursor: pointer;\n",
              "      display: none;\n",
              "      fill: #1967D2;\n",
              "      height: 32px;\n",
              "      padding: 0 0 0 0;\n",
              "      width: 32px;\n",
              "    }\n",
              "\n",
              "    .colab-df-convert:hover {\n",
              "      background-color: #E2EBFA;\n",
              "      box-shadow: 0px 1px 2px rgba(60, 64, 67, 0.3), 0px 1px 3px 1px rgba(60, 64, 67, 0.15);\n",
              "      fill: #174EA6;\n",
              "    }\n",
              "\n",
              "    [theme=dark] .colab-df-convert {\n",
              "      background-color: #3B4455;\n",
              "      fill: #D2E3FC;\n",
              "    }\n",
              "\n",
              "    [theme=dark] .colab-df-convert:hover {\n",
              "      background-color: #434B5C;\n",
              "      box-shadow: 0px 1px 3px 1px rgba(0, 0, 0, 0.15);\n",
              "      filter: drop-shadow(0px 1px 2px rgba(0, 0, 0, 0.3));\n",
              "      fill: #FFFFFF;\n",
              "    }\n",
              "  </style>\n",
              "\n",
              "      <script>\n",
              "        const buttonEl =\n",
              "          document.querySelector('#df-41bae1a7-675b-405b-9edb-3c0fc7715aac button.colab-df-convert');\n",
              "        buttonEl.style.display =\n",
              "          google.colab.kernel.accessAllowed ? 'block' : 'none';\n",
              "\n",
              "        async function convertToInteractive(key) {\n",
              "          const element = document.querySelector('#df-41bae1a7-675b-405b-9edb-3c0fc7715aac');\n",
              "          const dataTable =\n",
              "            await google.colab.kernel.invokeFunction('convertToInteractive',\n",
              "                                                     [key], {});\n",
              "          if (!dataTable) return;\n",
              "\n",
              "          const docLinkHtml = 'Like what you see? Visit the ' +\n",
              "            '<a target=\"_blank\" href=https://colab.research.google.com/notebooks/data_table.ipynb>data table notebook</a>'\n",
              "            + ' to learn more about interactive tables.';\n",
              "          element.innerHTML = '';\n",
              "          dataTable['output_type'] = 'display_data';\n",
              "          await google.colab.output.renderOutput(dataTable, element);\n",
              "          const docLink = document.createElement('div');\n",
              "          docLink.innerHTML = docLinkHtml;\n",
              "          element.appendChild(docLink);\n",
              "        }\n",
              "      </script>\n",
              "    </div>\n",
              "  </div>\n",
              "  "
            ]
          },
          "metadata": {},
          "execution_count": 19
        }
      ]
    },
    {
      "cell_type": "markdown",
      "metadata": {
        "id": "IuLEFIQRc2vh"
      },
      "source": [
        "###Data Infographic:"
      ]
    },
    {
      "cell_type": "code",
      "execution_count": null,
      "metadata": {
        "colab": {
          "base_uri": "https://localhost:8080/",
          "height": 206
        },
        "id": "Pctbtq-pDJ4w",
        "outputId": "25222a76-f7ef-414e-98e1-79226d113b4a"
      },
      "outputs": [
        {
          "data": {
            "text/html": [
              "\n",
              "  <div id=\"df-4f4b0d20-9421-4411-80b4-e03cc26e88e3\">\n",
              "    <div class=\"colab-df-container\">\n",
              "      <div>\n",
              "<style scoped>\n",
              "    .dataframe tbody tr th:only-of-type {\n",
              "        vertical-align: middle;\n",
              "    }\n",
              "\n",
              "    .dataframe tbody tr th {\n",
              "        vertical-align: top;\n",
              "    }\n",
              "\n",
              "    .dataframe thead th {\n",
              "        text-align: right;\n",
              "    }\n",
              "</style>\n",
              "<table border=\"1\" class=\"dataframe\">\n",
              "  <thead>\n",
              "    <tr style=\"text-align: right;\">\n",
              "      <th></th>\n",
              "      <th>m</th>\n",
              "      <th>n</th>\n",
              "      <th>c</th>\n",
              "      <th>r</th>\n",
              "      <th>score</th>\n",
              "    </tr>\n",
              "  </thead>\n",
              "  <tbody>\n",
              "    <tr>\n",
              "      <th>0</th>\n",
              "      <td>mesioangular</td>\n",
              "      <td>2</td>\n",
              "      <td>dilaceration</td>\n",
              "      <td>contact</td>\n",
              "      <td>D2</td>\n",
              "    </tr>\n",
              "    <tr>\n",
              "      <th>1</th>\n",
              "      <td>vertical</td>\n",
              "      <td>2</td>\n",
              "      <td>dilaceration</td>\n",
              "      <td>contact</td>\n",
              "      <td>D3</td>\n",
              "    </tr>\n",
              "    <tr>\n",
              "      <th>2</th>\n",
              "      <td>horizontal</td>\n",
              "      <td>2</td>\n",
              "      <td>dilaceration</td>\n",
              "      <td>contact</td>\n",
              "      <td>D3</td>\n",
              "    </tr>\n",
              "    <tr>\n",
              "      <th>3</th>\n",
              "      <td>mesioangular</td>\n",
              "      <td>2</td>\n",
              "      <td>straight</td>\n",
              "      <td>far</td>\n",
              "      <td>D1</td>\n",
              "    </tr>\n",
              "    <tr>\n",
              "      <th>4</th>\n",
              "      <td>distoangular</td>\n",
              "      <td>3</td>\n",
              "      <td>straight</td>\n",
              "      <td>contact</td>\n",
              "      <td>D4</td>\n",
              "    </tr>\n",
              "  </tbody>\n",
              "</table>\n",
              "</div>\n",
              "      <button class=\"colab-df-convert\" onclick=\"convertToInteractive('df-4f4b0d20-9421-4411-80b4-e03cc26e88e3')\"\n",
              "              title=\"Convert this dataframe to an interactive table.\"\n",
              "              style=\"display:none;\">\n",
              "        \n",
              "  <svg xmlns=\"http://www.w3.org/2000/svg\" height=\"24px\"viewBox=\"0 0 24 24\"\n",
              "       width=\"24px\">\n",
              "    <path d=\"M0 0h24v24H0V0z\" fill=\"none\"/>\n",
              "    <path d=\"M18.56 5.44l.94 2.06.94-2.06 2.06-.94-2.06-.94-.94-2.06-.94 2.06-2.06.94zm-11 1L8.5 8.5l.94-2.06 2.06-.94-2.06-.94L8.5 2.5l-.94 2.06-2.06.94zm10 10l.94 2.06.94-2.06 2.06-.94-2.06-.94-.94-2.06-.94 2.06-2.06.94z\"/><path d=\"M17.41 7.96l-1.37-1.37c-.4-.4-.92-.59-1.43-.59-.52 0-1.04.2-1.43.59L10.3 9.45l-7.72 7.72c-.78.78-.78 2.05 0 2.83L4 21.41c.39.39.9.59 1.41.59.51 0 1.02-.2 1.41-.59l7.78-7.78 2.81-2.81c.8-.78.8-2.07 0-2.86zM5.41 20L4 18.59l7.72-7.72 1.47 1.35L5.41 20z\"/>\n",
              "  </svg>\n",
              "      </button>\n",
              "      \n",
              "  <style>\n",
              "    .colab-df-container {\n",
              "      display:flex;\n",
              "      flex-wrap:wrap;\n",
              "      gap: 12px;\n",
              "    }\n",
              "\n",
              "    .colab-df-convert {\n",
              "      background-color: #E8F0FE;\n",
              "      border: none;\n",
              "      border-radius: 50%;\n",
              "      cursor: pointer;\n",
              "      display: none;\n",
              "      fill: #1967D2;\n",
              "      height: 32px;\n",
              "      padding: 0 0 0 0;\n",
              "      width: 32px;\n",
              "    }\n",
              "\n",
              "    .colab-df-convert:hover {\n",
              "      background-color: #E2EBFA;\n",
              "      box-shadow: 0px 1px 2px rgba(60, 64, 67, 0.3), 0px 1px 3px 1px rgba(60, 64, 67, 0.15);\n",
              "      fill: #174EA6;\n",
              "    }\n",
              "\n",
              "    [theme=dark] .colab-df-convert {\n",
              "      background-color: #3B4455;\n",
              "      fill: #D2E3FC;\n",
              "    }\n",
              "\n",
              "    [theme=dark] .colab-df-convert:hover {\n",
              "      background-color: #434B5C;\n",
              "      box-shadow: 0px 1px 3px 1px rgba(0, 0, 0, 0.15);\n",
              "      filter: drop-shadow(0px 1px 2px rgba(0, 0, 0, 0.3));\n",
              "      fill: #FFFFFF;\n",
              "    }\n",
              "  </style>\n",
              "\n",
              "      <script>\n",
              "        const buttonEl =\n",
              "          document.querySelector('#df-4f4b0d20-9421-4411-80b4-e03cc26e88e3 button.colab-df-convert');\n",
              "        buttonEl.style.display =\n",
              "          google.colab.kernel.accessAllowed ? 'block' : 'none';\n",
              "\n",
              "        async function convertToInteractive(key) {\n",
              "          const element = document.querySelector('#df-4f4b0d20-9421-4411-80b4-e03cc26e88e3');\n",
              "          const dataTable =\n",
              "            await google.colab.kernel.invokeFunction('convertToInteractive',\n",
              "                                                     [key], {});\n",
              "          if (!dataTable) return;\n",
              "\n",
              "          const docLinkHtml = 'Like what you see? Visit the ' +\n",
              "            '<a target=\"_blank\" href=https://colab.research.google.com/notebooks/data_table.ipynb>data table notebook</a>'\n",
              "            + ' to learn more about interactive tables.';\n",
              "          element.innerHTML = '';\n",
              "          dataTable['output_type'] = 'display_data';\n",
              "          await google.colab.output.renderOutput(dataTable, element);\n",
              "          const docLink = document.createElement('div');\n",
              "          docLink.innerHTML = docLinkHtml;\n",
              "          element.appendChild(docLink);\n",
              "        }\n",
              "      </script>\n",
              "    </div>\n",
              "  </div>\n",
              "  "
            ],
            "text/plain": [
              "              m  n             c        r score\n",
              "0  mesioangular  2  dilaceration  contact    D2\n",
              "1      vertical  2  dilaceration  contact    D3\n",
              "2    horizontal  2  dilaceration  contact    D3\n",
              "3  mesioangular  2      straight      far    D1\n",
              "4  distoangular  3      straight  contact    D4"
            ]
          },
          "execution_count": 48,
          "metadata": {},
          "output_type": "execute_result"
        }
      ],
      "source": [
        "df.head()"
      ]
    },
    {
      "cell_type": "code",
      "execution_count": null,
      "metadata": {
        "colab": {
          "base_uri": "https://localhost:8080/",
          "height": 356
        },
        "id": "GMY3RxoeHi0v",
        "outputId": "0f15c61e-e1d3-4aba-beda-4fb178bfa9fb"
      },
      "outputs": [
        {
          "name": "stderr",
          "output_type": "stream",
          "text": [
            "/usr/local/lib/python3.7/dist-packages/seaborn/_decorators.py:43: FutureWarning: Pass the following variables as keyword args: x, y. From version 0.12, the only valid positional argument will be `data`, and passing other arguments without an explicit keyword will result in an error or misinterpretation.\n",
            "  FutureWarning\n"
          ]
        },
        {
          "data": {
            "image/png": "[encoded data removed]",
            "text/plain": [
              "<Figure size 432x288 with 1 Axes>"
            ]
          },
          "metadata": {},
          "output_type": "display_data"
        }
      ],
      "source": [
        "m_count = df['m'].value_counts()\n",
        "sns.set(style=\"darkgrid\")\n",
        "sns.barplot(m_count.index, m_count.values, alpha=0.9)\n",
        "plt.title('Frequency Distribution of m')\n",
        "plt.ylabel('Number of Occurrences', fontsize=12)\n",
        "plt.xlabel('m', fontsize=12)\n",
        "plt.show()"
      ]
    },
    {
      "cell_type": "code",
      "execution_count": null,
      "metadata": {
        "colab": {
          "base_uri": "https://localhost:8080/",
          "height": 356
        },
        "id": "M1UgFhuB2SFY",
        "outputId": "6c50527a-dd55-40a9-927b-8c7a4597ed21"
      },
      "outputs": [
        {
          "name": "stderr",
          "output_type": "stream",
          "text": [
            "/usr/local/lib/python3.7/dist-packages/seaborn/_decorators.py:43: FutureWarning: Pass the following variables as keyword args: x, y. From version 0.12, the only valid positional argument will be `data`, and passing other arguments without an explicit keyword will result in an error or misinterpretation.\n",
            "  FutureWarning\n"
          ]
        },
        {
          "data": {
            "image/png": "[encoded data removed]",
            "text/plain": [
              "<Figure size 432x288 with 1 Axes>"
            ]
          },
          "metadata": {},
          "output_type": "display_data"
        }
      ],
      "source": [
        "n_count = df['n'].value_counts()\n",
        "sns.set(style=\"darkgrid\")\n",
        "sns.barplot(n_count.index, n_count.values, alpha=0.9)\n",
        "plt.title('Frequency Distribution of nuber of root')\n",
        "plt.ylabel('Number of Occurrences', fontsize=12)\n",
        "plt.xlabel('n', fontsize=12)\n",
        "plt.show()"
      ]
    },
    {
      "cell_type": "code",
      "execution_count": null,
      "metadata": {
        "colab": {
          "base_uri": "https://localhost:8080/",
          "height": 356
        },
        "id": "OIUAZqCvH63q",
        "outputId": "9ba69cff-c9c8-421b-ad9a-8e5759270555"
      },
      "outputs": [
        {
          "name": "stderr",
          "output_type": "stream",
          "text": [
            "/usr/local/lib/python3.7/dist-packages/seaborn/_decorators.py:43: FutureWarning: Pass the following variables as keyword args: x, y. From version 0.12, the only valid positional argument will be `data`, and passing other arguments without an explicit keyword will result in an error or misinterpretation.\n",
            "  FutureWarning\n"
          ]
        },
        {
          "data": {
            "image/png": "[encoded data removed]",
            "text/plain": [
              "<Figure size 432x288 with 1 Axes>"
            ]
          },
          "metadata": {},
          "output_type": "display_data"
        }
      ],
      "source": [
        "c_count = df['c'].value_counts()\n",
        "sns.set(style=\"darkgrid\")\n",
        "sns.barplot(c_count.index, c_count.values, alpha=0.9)\n",
        "plt.title('Frequency Distribution of c')\n",
        "plt.ylabel('Number of Occurrences', fontsize=12)\n",
        "plt.xlabel('c', fontsize=12)\n",
        "plt.show()"
      ]
    },
    {
      "cell_type": "code",
      "execution_count": null,
      "metadata": {
        "colab": {
          "base_uri": "https://localhost:8080/",
          "height": 356
        },
        "id": "nwgUjern3naa",
        "outputId": "12494760-170e-4eaf-afe1-69724b09bc78"
      },
      "outputs": [
        {
          "name": "stderr",
          "output_type": "stream",
          "text": [
            "/usr/local/lib/python3.7/dist-packages/seaborn/_decorators.py:43: FutureWarning: Pass the following variables as keyword args: x, y. From version 0.12, the only valid positional argument will be `data`, and passing other arguments without an explicit keyword will result in an error or misinterpretation.\n",
            "  FutureWarning\n"
          ]
        },
        {
          "data": {
            "image/png": "[encoded data removed]",
            "text/plain": [
              "<Figure size 432x288 with 1 Axes>"
            ]
          },
          "metadata": {},
          "output_type": "display_data"
        }
      ],
      "source": [
        "r_count = df['r'].value_counts()\n",
        "sns.set(style=\"darkgrid\")\n",
        "sns.barplot(r_count.index, r_count.values, alpha=0.9)\n",
        "plt.title('Frequency Distribution of r')\n",
        "plt.ylabel('Number of Occurrences', fontsize=12)\n",
        "plt.xlabel('r', fontsize=12)\n",
        "plt.show()"
      ]
    },
    {
      "cell_type": "code",
      "execution_count": null,
      "metadata": {
        "colab": {
          "base_uri": "https://localhost:8080/",
          "height": 253
        },
        "id": "3GQ6I1t_IIZr",
        "outputId": "e71a3d96-0154-48c9-91b1-70f4e5212c4a"
      },
      "outputs": [
        {
          "data": {
            "image/png": "[encoded data removed]",
            "text/plain": [
              "<Figure size 432x288 with 1 Axes>"
            ]
          },
          "metadata": {},
          "output_type": "display_data"
        }
      ],
      "source": [
        "labels = df['score'].astype('category').cat.categories.tolist()\n",
        "counts = df['score'].value_counts()\n",
        "sizes = [counts[var_cat] for var_cat in labels]\n",
        "fig1, ax1 = plt.subplots()\n",
        "ax1.pie(sizes, labels=labels, autopct='%1.1f%%', shadow=True) \n",
        "ax1.axis('equal')\n",
        "plt.show()"
      ]
    },
    {
      "cell_type": "markdown",
      "metadata": {
        "id": "6pHH4YojcxyC"
      },
      "source": [
        "###Data Preprocessing"
      ]
    },
    {
      "cell_type": "code",
      "execution_count": null,
      "metadata": {
        "id": "5XHEBeKtHflA"
      },
      "outputs": [],
      "source": [
        "df_obj_cols = df.select_dtypes(include=['object']).columns"
      ]
    },
    {
      "cell_type": "code",
      "execution_count": null,
      "metadata": {
        "colab": {
          "base_uri": "https://localhost:8080/"
        },
        "id": "BstLCuKoKIJ0",
        "outputId": "e9d429d9-ab88-4eb5-d1c0-c85120a9f26d"
      },
      "outputs": [
        {
          "data": {
            "text/plain": [
              "Index(['m', 'c', 'r'], dtype='object')"
            ]
          },
          "execution_count": 6,
          "metadata": {},
          "output_type": "execute_result"
        }
      ],
      "source": [
        "df_obj_cols[:-1]"
      ]
    },
    {
      "cell_type": "code",
      "execution_count": null,
      "metadata": {
        "id": "sIOpW6-SIXMg"
      },
      "outputs": [],
      "source": [
        "#####################\n",
        "df_ce = df.copy()\n",
        "\n",
        "for obj_col in df_obj_cols[:-1]:\n",
        "  encoder = ce.BinaryEncoder(cols=[obj_col])\n",
        "  df_ce = encoder.fit_transform(df_ce)"
      ]
    },
    {
      "cell_type": "code",
      "execution_count": null,
      "metadata": {
        "id": "HweJPxGKS3NY"
      },
      "outputs": [],
      "source": [
        "df_ce = df.copy()"
      ]
    },
    {
      "cell_type": "code",
      "execution_count": null,
      "metadata": {
        "id": "uoLbIWW5KNN9"
      },
      "outputs": [],
      "source": [
        "label_mapper = {\n",
        "    'mesioangular' : 1,\n",
        "    'horizontal' : 2,\n",
        "    'vertical' : 3,\n",
        "    'distoangular': 4\n",
        "}\n",
        "df_ce['m'] = df_ce.m.apply(lambda x: label_mapper[x])"
      ]
    },
    {
      "cell_type": "code",
      "execution_count": null,
      "metadata": {
        "id": "ByffGiStKNxF"
      },
      "outputs": [],
      "source": [
        "label_mapper = {\n",
        "    'incomplete' : 1,\n",
        "    'straight' : 2,\n",
        "    'dilaceration' : 3,\n",
        "}\n",
        "df_ce[ 'c' ] = df_ce.c.apply(lambda x: label_mapper[x])"
      ]
    },
    {
      "cell_type": "code",
      "execution_count": null,
      "metadata": {
        "id": "JfCQY96qKOYF"
      },
      "outputs": [],
      "source": [
        "label_mapper = {\n",
        "    'far' : 1,\n",
        "    'proximity' : 2,\n",
        "    'contact' : 3,\n",
        "    'inside': 4\n",
        "}\n",
        "df_ce['r'] = df_ce.r.apply(lambda x: label_mapper[x])"
      ]
    },
    {
      "cell_type": "code",
      "execution_count": null,
      "metadata": {
        "id": "XYOcltMyIXOh"
      },
      "outputs": [],
      "source": [
        "label_mapper = {\n",
        "    'D1' : 1,\n",
        "    'D2' : 2,\n",
        "    'D3' : 3,\n",
        "    'D4': 4\n",
        "}\n",
        "df_ce['score'] = df_ce.score.apply(lambda x: label_mapper[x])"
      ]
    },
    {
      "cell_type": "code",
      "execution_count": null,
      "metadata": {
        "colab": {
          "base_uri": "https://localhost:8080/",
          "height": 424
        },
        "id": "U1lCEkTeTGQH",
        "outputId": "40b19a3c-bb93-4c1f-ce40-178901f6b918"
      },
      "outputs": [
        {
          "data": {
            "text/html": [
              "\n",
              "  <div id=\"df-bf64d399-dbc2-4e09-84f4-94abd73072ff\">\n",
              "    <div class=\"colab-df-container\">\n",
              "      <div>\n",
              "<style scoped>\n",
              "    .dataframe tbody tr th:only-of-type {\n",
              "        vertical-align: middle;\n",
              "    }\n",
              "\n",
              "    .dataframe tbody tr th {\n",
              "        vertical-align: top;\n",
              "    }\n",
              "\n",
              "    .dataframe thead th {\n",
              "        text-align: right;\n",
              "    }\n",
              "</style>\n",
              "<table border=\"1\" class=\"dataframe\">\n",
              "  <thead>\n",
              "    <tr style=\"text-align: right;\">\n",
              "      <th></th>\n",
              "      <th>m</th>\n",
              "      <th>n</th>\n",
              "      <th>c</th>\n",
              "      <th>r</th>\n",
              "      <th>score</th>\n",
              "    </tr>\n",
              "  </thead>\n",
              "  <tbody>\n",
              "    <tr>\n",
              "      <th>0</th>\n",
              "      <td>1</td>\n",
              "      <td>2</td>\n",
              "      <td>3</td>\n",
              "      <td>3</td>\n",
              "      <td>2</td>\n",
              "    </tr>\n",
              "    <tr>\n",
              "      <th>1</th>\n",
              "      <td>3</td>\n",
              "      <td>2</td>\n",
              "      <td>3</td>\n",
              "      <td>3</td>\n",
              "      <td>3</td>\n",
              "    </tr>\n",
              "    <tr>\n",
              "      <th>2</th>\n",
              "      <td>2</td>\n",
              "      <td>2</td>\n",
              "      <td>3</td>\n",
              "      <td>3</td>\n",
              "      <td>3</td>\n",
              "    </tr>\n",
              "    <tr>\n",
              "      <th>3</th>\n",
              "      <td>1</td>\n",
              "      <td>2</td>\n",
              "      <td>2</td>\n",
              "      <td>1</td>\n",
              "      <td>1</td>\n",
              "    </tr>\n",
              "    <tr>\n",
              "      <th>4</th>\n",
              "      <td>4</td>\n",
              "      <td>3</td>\n",
              "      <td>2</td>\n",
              "      <td>3</td>\n",
              "      <td>4</td>\n",
              "    </tr>\n",
              "    <tr>\n",
              "      <th>...</th>\n",
              "      <td>...</td>\n",
              "      <td>...</td>\n",
              "      <td>...</td>\n",
              "      <td>...</td>\n",
              "      <td>...</td>\n",
              "    </tr>\n",
              "    <tr>\n",
              "      <th>141</th>\n",
              "      <td>1</td>\n",
              "      <td>2</td>\n",
              "      <td>2</td>\n",
              "      <td>3</td>\n",
              "      <td>2</td>\n",
              "    </tr>\n",
              "    <tr>\n",
              "      <th>142</th>\n",
              "      <td>4</td>\n",
              "      <td>2</td>\n",
              "      <td>3</td>\n",
              "      <td>3</td>\n",
              "      <td>4</td>\n",
              "    </tr>\n",
              "    <tr>\n",
              "      <th>143</th>\n",
              "      <td>2</td>\n",
              "      <td>1</td>\n",
              "      <td>2</td>\n",
              "      <td>3</td>\n",
              "      <td>2</td>\n",
              "    </tr>\n",
              "    <tr>\n",
              "      <th>144</th>\n",
              "      <td>1</td>\n",
              "      <td>2</td>\n",
              "      <td>2</td>\n",
              "      <td>3</td>\n",
              "      <td>2</td>\n",
              "    </tr>\n",
              "    <tr>\n",
              "      <th>145</th>\n",
              "      <td>4</td>\n",
              "      <td>2</td>\n",
              "      <td>2</td>\n",
              "      <td>3</td>\n",
              "      <td>3</td>\n",
              "    </tr>\n",
              "  </tbody>\n",
              "</table>\n",
              "<p>146 rows × 5 columns</p>\n",
              "</div>\n",
              "      <button class=\"colab-df-convert\" onclick=\"convertToInteractive('df-bf64d399-dbc2-4e09-84f4-94abd73072ff')\"\n",
              "              title=\"Convert this dataframe to an interactive table.\"\n",
              "              style=\"display:none;\">\n",
              "        \n",
              "  <svg xmlns=\"http://www.w3.org/2000/svg\" height=\"24px\"viewBox=\"0 0 24 24\"\n",
              "       width=\"24px\">\n",
              "    <path d=\"M0 0h24v24H0V0z\" fill=\"none\"/>\n",
              "    <path d=\"M18.56 5.44l.94 2.06.94-2.06 2.06-.94-2.06-.94-.94-2.06-.94 2.06-2.06.94zm-11 1L8.5 8.5l.94-2.06 2.06-.94-2.06-.94L8.5 2.5l-.94 2.06-2.06.94zm10 10l.94 2.06.94-2.06 2.06-.94-2.06-.94-.94-2.06-.94 2.06-2.06.94z\"/><path d=\"M17.41 7.96l-1.37-1.37c-.4-.4-.92-.59-1.43-.59-.52 0-1.04.2-1.43.59L10.3 9.45l-7.72 7.72c-.78.78-.78 2.05 0 2.83L4 21.41c.39.39.9.59 1.41.59.51 0 1.02-.2 1.41-.59l7.78-7.78 2.81-2.81c.8-.78.8-2.07 0-2.86zM5.41 20L4 18.59l7.72-7.72 1.47 1.35L5.41 20z\"/>\n",
              "  </svg>\n",
              "      </button>\n",
              "      \n",
              "  <style>\n",
              "    .colab-df-container {\n",
              "      display:flex;\n",
              "      flex-wrap:wrap;\n",
              "      gap: 12px;\n",
              "    }\n",
              "\n",
              "    .colab-df-convert {\n",
              "      background-color: #E8F0FE;\n",
              "      border: none;\n",
              "      border-radius: 50%;\n",
              "      cursor: pointer;\n",
              "      display: none;\n",
              "      fill: #1967D2;\n",
              "      height: 32px;\n",
              "      padding: 0 0 0 0;\n",
              "      width: 32px;\n",
              "    }\n",
              "\n",
              "    .colab-df-convert:hover {\n",
              "      background-color: #E2EBFA;\n",
              "      box-shadow: 0px 1px 2px rgba(60, 64, 67, 0.3), 0px 1px 3px 1px rgba(60, 64, 67, 0.15);\n",
              "      fill: #174EA6;\n",
              "    }\n",
              "\n",
              "    [theme=dark] .colab-df-convert {\n",
              "      background-color: #3B4455;\n",
              "      fill: #D2E3FC;\n",
              "    }\n",
              "\n",
              "    [theme=dark] .colab-df-convert:hover {\n",
              "      background-color: #434B5C;\n",
              "      box-shadow: 0px 1px 3px 1px rgba(0, 0, 0, 0.15);\n",
              "      filter: drop-shadow(0px 1px 2px rgba(0, 0, 0, 0.3));\n",
              "      fill: #FFFFFF;\n",
              "    }\n",
              "  </style>\n",
              "\n",
              "      <script>\n",
              "        const buttonEl =\n",
              "          document.querySelector('#df-bf64d399-dbc2-4e09-84f4-94abd73072ff button.colab-df-convert');\n",
              "        buttonEl.style.display =\n",
              "          google.colab.kernel.accessAllowed ? 'block' : 'none';\n",
              "\n",
              "        async function convertToInteractive(key) {\n",
              "          const element = document.querySelector('#df-bf64d399-dbc2-4e09-84f4-94abd73072ff');\n",
              "          const dataTable =\n",
              "            await google.colab.kernel.invokeFunction('convertToInteractive',\n",
              "                                                     [key], {});\n",
              "          if (!dataTable) return;\n",
              "\n",
              "          const docLinkHtml = 'Like what you see? Visit the ' +\n",
              "            '<a target=\"_blank\" href=https://colab.research.google.com/notebooks/data_table.ipynb>data table notebook</a>'\n",
              "            + ' to learn more about interactive tables.';\n",
              "          element.innerHTML = '';\n",
              "          dataTable['output_type'] = 'display_data';\n",
              "          await google.colab.output.renderOutput(dataTable, element);\n",
              "          const docLink = document.createElement('div');\n",
              "          docLink.innerHTML = docLinkHtml;\n",
              "          element.appendChild(docLink);\n",
              "        }\n",
              "      </script>\n",
              "    </div>\n",
              "  </div>\n",
              "  "
            ],
            "text/plain": [
              "     m  n  c  r  score\n",
              "0    1  2  3  3      2\n",
              "1    3  2  3  3      3\n",
              "2    2  2  3  3      3\n",
              "3    1  2  2  1      1\n",
              "4    4  3  2  3      4\n",
              "..  .. .. .. ..    ...\n",
              "141  1  2  2  3      2\n",
              "142  4  2  3  3      4\n",
              "143  2  1  2  3      2\n",
              "144  1  2  2  3      2\n",
              "145  4  2  2  3      3\n",
              "\n",
              "[146 rows x 5 columns]"
            ]
          },
          "execution_count": 12,
          "metadata": {},
          "output_type": "execute_result"
        }
      ],
      "source": [
        "df_ce"
      ]
    },
    {
      "cell_type": "code",
      "execution_count": null,
      "metadata": {
        "id": "znkq8uneTKHX"
      },
      "outputs": [],
      "source": [
        "df_ce.iloc[: , -1]"
      ]
    },
    {
      "cell_type": "code",
      "execution_count": null,
      "metadata": {
        "id": "QbErOwTOGIXP"
      },
      "outputs": [],
      "source": [
        "X = df_ce.iloc[:, :-1].values\n",
        "y = df_ce.iloc[: , -1]\n",
        "n_inputs = X.shape[1]"
      ]
    },
    {
      "cell_type": "code",
      "execution_count": null,
      "metadata": {
        "id": "WNICcWFIDoUd"
      },
      "outputs": [],
      "source": [
        "X_train, X_test, y_train, y_test = train_test_split(X, y, test_size=0.3, random_state=1)"
      ]
    },
    {
      "cell_type": "code",
      "execution_count": null,
      "metadata": {
        "colab": {
          "base_uri": "https://localhost:8080/"
        },
        "id": "3fd4PQz2edlJ",
        "outputId": "cdb54426-4ddc-4ebb-e051-505d9084ad19"
      },
      "outputs": [
        {
          "name": "stdout",
          "output_type": "stream",
          "text": [
            "X_train.shape (102, 4)\n",
            "X_test.shape (44, 4)\n"
          ]
        }
      ],
      "source": [
        "print (\"X_train.shape\" , X_train.shape)\n",
        "print (\"X_test.shape\" , X_test.shape)"
      ]
    },
    {
      "cell_type": "code",
      "execution_count": null,
      "metadata": {
        "id": "bnEPCTcVvvXg"
      },
      "outputs": [],
      "source": [
        "#sc=StandardScaler()\n",
        "\n",
        "scaler = sc.fit(X_train)\n",
        "trainX_scaled = scaler.transform(X_train)\n",
        "testX_scaled = scaler.transform(X_test)"
      ]
    },
    {
      "cell_type": "code",
      "execution_count": null,
      "metadata": {
        "id": "wAls84DkO2R9"
      },
      "outputs": [],
      "source": [
        "X_train\n",
        "X_test\n",
        "y_train\n",
        "y_test"
      ]
    },
    {
      "cell_type": "code",
      "execution_count": null,
      "metadata": {
        "id": "C6qvRuzet5fv"
      },
      "outputs": [],
      "source": [
        "trainX_scaled\n",
        "testX_scaled\n",
        "y_train\n",
        "y_test"
      ]
    },
    {
      "cell_type": "code",
      "execution_count": null,
      "metadata": {
        "id": "DWPt2T8LObMU"
      },
      "outputs": [],
      "source": [
        "from sklearn.metrics import accuracy_score\n",
        "from sklearn.metrics import plot_confusion_matrix\n",
        "from sklearn.metrics import classification_report"
      ]
    },
    {
      "cell_type": "code",
      "execution_count": null,
      "metadata": {
        "id": "pPmjQZIlnuzT"
      },
      "outputs": [],
      "source": [
        "from sklearn.model_selection import GridSearchCV"
      ]
    },
    {
      "cell_type": "markdown",
      "metadata": {
        "id": "niRvI6mQcsZ1"
      },
      "source": [
        "###MLP Model :"
      ]
    },
    {
      "cell_type": "code",
      "execution_count": null,
      "metadata": {
        "colab": {
          "base_uri": "https://localhost:8080/"
        },
        "id": "87Rod8G5mjn_",
        "outputId": "c4441393-a1d5-4d7c-bc56-2e0a3bf26d4b"
      },
      "outputs": [
        {
          "name": "stdout",
          "output_type": "stream",
          "text": [
            "Accuracy: 0.95\n",
            "AccuracyTest: 0.95\n"
          ]
        }
      ],
      "source": [
        "mlp_clf = MLPClassifier(\n",
        "    activation= 'tanh', \n",
        "    hidden_layer_sizes = (150 ,100 ,50), \n",
        "    learning_rate= 'constant',  \n",
        "    solver = 'adam',\n",
        "    max_iter=1000,\n",
        "    \n",
        "     )\n",
        "mlp_clf.fit(X_train, y_train)\n",
        "\n",
        "y_pred = mlp_clf.predict(X_train)\n",
        "print('Accuracy: {:.2f}'.format(accuracy_score(y_train, y_pred)))\n",
        "\n",
        "y2_pred = mlp_clf.predict(X_test)\n",
        "print('AccuracyTest: {:.2f}'.format(accuracy_score(y_test, y2_pred)))"
      ]
    },
    {
      "cell_type": "code",
      "execution_count": null,
      "metadata": {
        "colab": {
          "base_uri": "https://localhost:8080/"
        },
        "id": "9X_k70H7MgOs",
        "outputId": "c4e04318-e4d6-41b1-f81b-c6602d70051b"
      },
      "outputs": [
        {
          "name": "stdout",
          "output_type": "stream",
          "text": [
            "Accuracy: 0.95\n"
          ]
        }
      ],
      "source": [
        "y_pred = mlp_clf.predict(X_test)\n",
        "print('Accuracy: {:.2f}'.format(accuracy_score(y_test, y_pred)))"
      ]
    },
    {
      "cell_type": "code",
      "execution_count": null,
      "metadata": {
        "colab": {
          "base_uri": "https://localhost:8080/",
          "height": 296
        },
        "id": "sEVVREA4QRUO",
        "outputId": "024adbbb-2c89-4ebb-fe5a-b4108acf1e47"
      },
      "outputs": [
        {
          "data": {
            "image/png": "[encoded data removed]",
            "text/plain": [
              "<Figure size 432x288 with 1 Axes>"
            ]
          },
          "metadata": {},
          "output_type": "display_data"
        }
      ],
      "source": [
        "plt.plot(mlp_clf.loss_curve_)\n",
        "plt.title(\"Loss Curve\", fontsize=14)\n",
        "plt.xlabel('Iterations')\n",
        "plt.ylabel('Cost')\n",
        "plt.show()"
      ]
    },
    {
      "cell_type": "code",
      "execution_count": null,
      "metadata": {
        "colab": {
          "base_uri": "https://localhost:8080/",
          "height": 363
        },
        "id": "HauB_yhDReYj",
        "outputId": "c76cb01f-ce40-4fb1-94c5-ede0be6babb6"
      },
      "outputs": [
        {
          "name": "stderr",
          "output_type": "stream",
          "text": [
            "/usr/local/lib/python3.7/dist-packages/sklearn/utils/deprecation.py:87: FutureWarning: Function plot_confusion_matrix is deprecated; Function `plot_confusion_matrix` is deprecated in 1.0 and will be removed in 1.2. Use one of the class methods: ConfusionMatrixDisplay.from_predictions or ConfusionMatrixDisplay.from_estimator.\n",
            "  warnings.warn(msg, category=FutureWarning)\n"
          ]
        },
        {
          "data": {
            "image/png": "[encoded data removed]",
            "text/plain": [
              "<Figure size 432x288 with 2 Axes>"
            ]
          },
          "metadata": {},
          "output_type": "display_data"
        }
      ],
      "source": [
        "fig = plot_confusion_matrix(mlp_clf, X_test, y_test, display_labels=mlp_clf.classes_)\n",
        "fig.figure_.suptitle(\"Confusion Matrix for Iris Dataset\")\n",
        "plt.show()"
      ]
    },
    {
      "cell_type": "code",
      "execution_count": null,
      "metadata": {
        "colab": {
          "base_uri": "https://localhost:8080/"
        },
        "id": "tQGz9Ay9R2Zf",
        "outputId": "7f352aec-7b8d-4ac4-93c3-8a356c007b21"
      },
      "outputs": [
        {
          "name": "stdout",
          "output_type": "stream",
          "text": [
            "              precision    recall  f1-score   support\n",
            "\n",
            "           1       1.00      0.89      0.94         9\n",
            "           2       0.95      1.00      0.97        18\n",
            "           3       0.93      1.00      0.97        14\n",
            "           4       1.00      0.67      0.80         3\n",
            "\n",
            "    accuracy                           0.95        44\n",
            "   macro avg       0.97      0.89      0.92        44\n",
            "weighted avg       0.96      0.95      0.95        44\n",
            "\n"
          ]
        }
      ],
      "source": [
        "print(classification_report(y_test, y_pred))"
      ]
    },
    {
      "cell_type": "code",
      "execution_count": null,
      "metadata": {
        "id": "zjKHfSmASKDY"
      },
      "outputs": [],
      "source": [
        "param_grid = {\n",
        "    'hidden_layer_sizes': [(150,100,50), (200,100,50), (100,50)],\n",
        "    \n",
        "    'activation': ['tanh', 'relu' ],\n",
        "    'solver': ['sgd', 'adam','lbfgs'],\n",
        "    'learning_rate': ['constant','adaptive'],\n",
        "    'max_iter' : [1000, 500 , 800]\n",
        "}\n",
        "\n"
      ]
    },
    {
      "cell_type": "code",
      "execution_count": null,
      "metadata": {
        "colab": {
          "base_uri": "https://localhost:8080/"
        },
        "id": "bxW1MIlFSTgF",
        "outputId": "654812f0-f8b4-4555-8668-9859d9d31e6a"
      },
      "outputs": [
        {
          "name": "stdout",
          "output_type": "stream",
          "text": [
            "{'activation': 'tanh', 'hidden_layer_sizes': (150, 100, 50), 'learning_rate': 'adaptive', 'max_iter': 1000, 'solver': 'lbfgs'}\n"
          ]
        }
      ],
      "source": [
        "grid = GridSearchCV(MLPClassifier(), param_grid, n_jobs= -1, cv=5)\n",
        "grid.fit(X_train, y_train)\n",
        "print(grid.best_params_) "
      ]
    },
    {
      "cell_type": "code",
      "execution_count": null,
      "metadata": {
        "colab": {
          "base_uri": "https://localhost:8080/"
        },
        "id": "F-agLpF2Sdv7",
        "outputId": "5f0f596d-be26-445a-84c3-901675f0a066"
      },
      "outputs": [
        {
          "name": "stdout",
          "output_type": "stream",
          "text": [
            "Accuracy: 0.89\n",
            "Accuracy: 0.95\n"
          ]
        }
      ],
      "source": [
        "grid_predictions = grid.predict(X_test) \n",
        "print('Accuracy: {:.2f}'.format(accuracy_score(y_test, grid_predictions)))\n",
        "grid_predictions = grid.predict(X_train) \n",
        "print('Accuracy: {:.2f}'.format(accuracy_score(y_train, grid_predictions)))"
      ]
    },
    {
      "cell_type": "code",
      "execution_count": null,
      "metadata": {
        "colab": {
          "base_uri": "https://localhost:8080/"
        },
        "id": "o-AEdWFeUxbK",
        "outputId": "d1ccefcf-59a0-4a3a-e905-216342a2ffad"
      },
      "outputs": [
        {
          "data": {
            "text/plain": [
              "4"
            ]
          },
          "execution_count": 36,
          "metadata": {},
          "output_type": "execute_result"
        }
      ],
      "source": [
        "mlp_clf.n_features_in_"
      ]
    },
    {
      "cell_type": "code",
      "execution_count": null,
      "metadata": {
        "colab": {
          "base_uri": "https://localhost:8080/"
        },
        "id": "QgnFhpeUkppT",
        "outputId": "7a5f0f2d-3390-4744-a863-ccdc58e00d02"
      },
      "outputs": [
        {
          "data": {
            "text/plain": [
              "4"
            ]
          },
          "execution_count": 37,
          "metadata": {},
          "output_type": "execute_result"
        }
      ],
      "source": [
        "mlp_clf.n_outputs_"
      ]
    },
    {
      "cell_type": "code",
      "execution_count": null,
      "metadata": {
        "colab": {
          "base_uri": "https://localhost:8080/"
        },
        "id": "xCprDq0WxuRK",
        "outputId": "da2c4c35-db18-400e-8c0b-030e751ac7fe"
      },
      "outputs": [
        {
          "data": {
            "text/plain": [
              "35700"
            ]
          },
          "execution_count": 38,
          "metadata": {},
          "output_type": "execute_result"
        }
      ],
      "source": [
        "mlp_clf.t_"
      ]
    },
    {
      "cell_type": "code",
      "execution_count": null,
      "metadata": {
        "colab": {
          "base_uri": "https://localhost:8080/"
        },
        "id": "xjKDARN-o2di",
        "outputId": "dabbdda8-ecf5-45a4-83c6-74c52d95fe4c"
      },
      "outputs": [
        {
          "data": {
            "text/plain": [
              "350"
            ]
          },
          "execution_count": 39,
          "metadata": {},
          "output_type": "execute_result"
        }
      ],
      "source": [
        "mlp_clf.n_iter_"
      ]
    },
    {
      "cell_type": "code",
      "execution_count": null,
      "metadata": {
        "colab": {
          "base_uri": "https://localhost:8080/",
          "height": 35
        },
        "id": "UwhU5D4Go-f1",
        "outputId": "3adbeaa0-040a-49f5-be2a-efd4ef2d4dcc"
      },
      "outputs": [
        {
          "data": {
            "application/vnd.google.colaboratory.intrinsic+json": {
              "type": "string"
            },
            "text/plain": [
              "'softmax'"
            ]
          },
          "execution_count": 40,
          "metadata": {},
          "output_type": "execute_result"
        }
      ],
      "source": [
        "mlp_clf.out_activation_"
      ]
    },
    {
      "cell_type": "code",
      "execution_count": null,
      "metadata": {
        "colab": {
          "base_uri": "https://localhost:8080/"
        },
        "id": "w92la1KQpZ__",
        "outputId": "974c8522-64b1-4aa5-aa51-038ea402da2c"
      },
      "outputs": [
        {
          "data": {
            "text/plain": [
              "5"
            ]
          },
          "execution_count": 41,
          "metadata": {},
          "output_type": "execute_result"
        }
      ],
      "source": [
        "mlp_clf.n_layers_"
      ]
    },
    {
      "cell_type": "code",
      "execution_count": null,
      "metadata": {
        "id": "l-CQKuwFE87F"
      },
      "outputs": [],
      "source": [
        "print(__doc__)\n",
        "\n",
        "import numpy as np\n",
        "import matplotlib.pyplot as plt\n",
        "from sklearn import cross_validation\n",
        "from sklearn.naive_bayes import GaussianNB\n",
        "from sklearn.svm import SVC\n",
        "from sklearn.datasets import load_digits\n",
        "from sklearn.learning_curve import learning_curve\n",
        "\n",
        "\n",
        "def plot_learning_curve(estimator, title, X, y, ylim=None, cv=None,\n",
        "                        n_jobs=1, train_sizes=np.linspace(.1, 1.0, 5)):\n",
        "    \"\"\"\n",
        "    Generate a simple plot of the test and traning learning curve.\n",
        "\n",
        "    Parameters\n",
        "    ----------\n",
        "    estimator : object type that implements the \"fit\" and \"predict\" methods\n",
        "        An object of that type which is cloned for each validation.\n",
        "\n",
        "    title : string\n",
        "        Title for the chart.\n",
        "\n",
        "    X : array-like, shape (n_samples, n_features)\n",
        "        Training vector, where n_samples is the number of samples and\n",
        "        n_features is the number of features.\n",
        "\n",
        "    y : array-like, shape (n_samples) or (n_samples, n_features), optional\n",
        "        Target relative to X for classification or regression;\n",
        "        None for unsupervised learning.\n",
        "\n",
        "    ylim : tuple, shape (ymin, ymax), optional\n",
        "        Defines minimum and maximum yvalues plotted.\n",
        "\n",
        "    cv : integer, cross-validation generator, optional\n",
        "        If an integer is passed, it is the number of folds (defaults to 3).\n",
        "        Specific cross-validation objects can be passed, see\n",
        "        sklearn.cross_validation module for the list of possible objects\n",
        "\n",
        "    n_jobs : integer, optional\n",
        "        Number of jobs to run in parallel (default 1).\n",
        "    \"\"\"\n",
        "    plt.figure()\n",
        "    plt.title(title)\n",
        "    if ylim is not None:\n",
        "        plt.ylim(*ylim)\n",
        "    plt.xlabel(\"Training examples\")\n",
        "    plt.ylabel(\"Score\")\n",
        "    train_sizes, train_scores, test_scores = learning_curve(\n",
        "        estimator, X, y, cv=cv, n_jobs=n_jobs, train_sizes=train_sizes)\n",
        "    train_scores_mean = np.mean(train_scores, axis=1)\n",
        "    train_scores_std = np.std(train_scores, axis=1)\n",
        "    test_scores_mean = np.mean(test_scores, axis=1)\n",
        "    test_scores_std = np.std(test_scores, axis=1)\n",
        "    plt.grid()\n",
        "\n",
        "    plt.fill_between(train_sizes, train_scores_mean - train_scores_std,\n",
        "                     train_scores_mean + train_scores_std, alpha=0.1,\n",
        "                     color=\"r\")\n",
        "    plt.fill_between(train_sizes, test_scores_mean - test_scores_std,\n",
        "                     test_scores_mean + test_scores_std, alpha=0.1, color=\"g\")\n",
        "    plt.plot(train_sizes, train_scores_mean, 'o-', color=\"r\",\n",
        "             label=\"Training score\")\n",
        "    plt.plot(train_sizes, test_scores_mean, 'o-', color=\"g\",\n",
        "             label=\"Cross-validation score\")\n",
        "\n",
        "    plt.legend(loc=\"best\")\n",
        "    return plt\n",
        "\n",
        "\n",
        "digits = load_digits()\n",
        "X, y = digits.data, digits.target\n",
        "\n",
        "\n",
        "title = \"Learning Curves (Naive Bayes)\"\n",
        "# Cross validation with 100 iterations to get smoother mean test and train\n",
        "# score curves, each time with 20% data randomly selected as a validation set.\n",
        "cv = cross_validation.ShuffleSplit(digits.data.shape[0], n_iter=100,\n",
        "                                   test_size=0.2, random_state=0)\n",
        "\n",
        "estimator = GaussianNB()\n",
        "plot_learning_curve(estimator, title, X, y, ylim=(0.7, 1.01), cv=cv, n_jobs=4)\n",
        "\n",
        "title = \"Learning Curves (SVM, RBF kernel, $\\gamma=0.001$)\"\n",
        "# SVC is more expensive so we do a lower number of CV iterations:\n",
        "cv = cross_validation.ShuffleSplit(digits.data.shape[0], n_iter=10,\n",
        "                                   test_size=0.2, random_state=0)\n",
        "estimator = SVC(gamma=0.001)\n",
        "plot_learning_curve(estimator, title, X, y, (0.7, 1.01), cv=cv, n_jobs=4)\n",
        "\n",
        "plt.show()"
      ]
    },
    {
      "cell_type": "code",
      "execution_count": null,
      "metadata": {
        "colab": {
          "background_save": true,
          "base_uri": "https://localhost:8080/",
          "height": 282
        },
        "id": "4ASR7cwUFj-1",
        "outputId": "f79e70ed-b758-43c8-e9fe-719a9322d41a"
      },
      "outputs": [
        {
          "ename": "ValueError",
          "evalue": "ignored",
          "output_type": "error",
          "traceback": [
            "\u001b[0;31m---------------------------------------------------------------------------\u001b[0m",
            "\u001b[0;31mValueError\u001b[0m                                Traceback (most recent call last)",
            "\u001b[0;32m<ipython-input-50-ce3cadf0e266>\u001b[0m in \u001b[0;36m<module>\u001b[0;34m\u001b[0m\n\u001b[1;32m      8\u001b[0m \u001b[0;34m\u001b[0m\u001b[0m\n\u001b[1;32m      9\u001b[0m train_sizes, train_scores, test_scores, fit_times, _ = learning_curve(estimator, X, y,  n_jobs=-1,\n\u001b[0;32m---> 10\u001b[0;31m     scoring=\"accuracy\",)\n\u001b[0m\u001b[1;32m     11\u001b[0m \u001b[0;34m\u001b[0m\u001b[0m\n\u001b[1;32m     12\u001b[0m \u001b[0mplt\u001b[0m\u001b[0;34m.\u001b[0m\u001b[0mplot\u001b[0m\u001b[0;34m(\u001b[0m\u001b[0mtrain_sizes\u001b[0m\u001b[0;34m,\u001b[0m\u001b[0mnp\u001b[0m\u001b[0;34m.\u001b[0m\u001b[0mmean\u001b[0m\u001b[0;34m(\u001b[0m\u001b[0mtrain_scores\u001b[0m\u001b[0;34m,\u001b[0m\u001b[0maxis\u001b[0m\u001b[0;34m=\u001b[0m\u001b[0;36m1\u001b[0m\u001b[0;34m)\u001b[0m\u001b[0;34m)\u001b[0m\u001b[0;34m\u001b[0m\u001b[0;34m\u001b[0m\u001b[0m\n",
            "\u001b[0;31mValueError\u001b[0m: not enough values to unpack (expected 5, got 3)"
          ]
        }
      ],
      "source": [
        "from sklearn.model_selection import learning_curve\n",
        "from sklearn.svm import SVC\n",
        "from sklearn.datasets import load_digits\n",
        "from matplotlib import pyplot as plt\n",
        "import numpy as np\n",
        "\n",
        "estimator = mlp_clf\n",
        "\n",
        "train_sizes, train_scores, test_scores, fit_times, _ = learning_curve(estimator, X, y, cv=5 , return_times=True)\n",
        "plot_learning_curve(\n",
        "    estimator,\n",
        "    title,\n",
        "    X,\n",
        "    y,\n",
        "    axes=axes[:, 0],\n",
        "    ylim=(0.7, 1.01),\n",
        "    cv=cv,\n",
        "    n_jobs=-1,\n",
        "    scoring=\"accuracy\",\n",
        ")\n",
        "plt.plot(train_sizes,np.mean(train_scores,axis=1))"
      ]
    },
    {
      "cell_type": "code",
      "execution_count": null,
      "metadata": {
        "colab": {
          "base_uri": "https://localhost:8080/",
          "height": 894
        },
        "id": "GwwuCv5eqLmB",
        "outputId": "91ba827e-77c4-4b62-e77b-321dbfcca24d"
      },
      "outputs": [
        {
          "data": {
            "image/png": "[encoded data removed]",
            "text/plain": [
              "<Figure size 720x1080 with 6 Axes>"
            ]
          },
          "metadata": {},
          "output_type": "display_data"
        }
      ],
      "source": [
        "import numpy as np\n",
        "import matplotlib.pyplot as plt\n",
        "from sklearn.naive_bayes import GaussianNB\n",
        "from sklearn.svm import SVC\n",
        "from sklearn.datasets import load_digits\n",
        "from sklearn.model_selection import learning_curve\n",
        "from sklearn.model_selection import ShuffleSplit\n",
        "\n",
        "\n",
        "def plot_learning_curve(\n",
        "    estimator,\n",
        "    title,\n",
        "    X,\n",
        "    y,\n",
        "    axes=None,\n",
        "    ylim=None,\n",
        "    cv=None,\n",
        "    n_jobs=None,\n",
        "    scoring=None,\n",
        "    train_sizes=np.linspace(0.1, 1.0, 5),\n",
        "):\n",
        "    \"\"\"\n",
        "    Generate 3 plots: the test and training learning curve, the training\n",
        "    samples vs fit times curve, the fit times vs score curve.\n",
        "\n",
        "    Parameters\n",
        "    ----------\n",
        "    estimator : estimator instance\n",
        "        An estimator instance implementing `fit` and `predict` methods which\n",
        "        will be cloned for each validation.\n",
        "\n",
        "    title : str\n",
        "        Title for the chart.\n",
        "\n",
        "    X : array-like of shape (n_samples, n_features)\n",
        "        Training vector, where ``n_samples`` is the number of samples and\n",
        "        ``n_features`` is the number of features.\n",
        "\n",
        "    y : array-like of shape (n_samples) or (n_samples, n_features)\n",
        "        Target relative to ``X`` for classification or regression;\n",
        "        None for unsupervised learning.\n",
        "\n",
        "    axes : array-like of shape (3,), default=None\n",
        "        Axes to use for plotting the curves.\n",
        "\n",
        "    ylim : tuple of shape (2,), default=None\n",
        "        Defines minimum and maximum y-values plotted, e.g. (ymin, ymax).\n",
        "\n",
        "    cv : int, cross-validation generator or an iterable, default=None\n",
        "        Determines the cross-validation splitting strategy.\n",
        "        Possible inputs for cv are:\n",
        "\n",
        "          - None, to use the default 5-fold cross-validation,\n",
        "          - integer, to specify the number of folds.\n",
        "          - :term:`CV splitter`,\n",
        "          - An iterable yielding (train, test) splits as arrays of indices.\n",
        "\n",
        "        For integer/None inputs, if ``y`` is binary or multiclass,\n",
        "        :class:`StratifiedKFold` used. If the estimator is not a classifier\n",
        "        or if ``y`` is neither binary nor multiclass, :class:`KFold` is used.\n",
        "\n",
        "        Refer :ref:`User Guide <cross_validation>` for the various\n",
        "        cross-validators that can be used here.\n",
        "\n",
        "    n_jobs : int or None, default=None\n",
        "        Number of jobs to run in parallel.\n",
        "        ``None`` means 1 unless in a :obj:`joblib.parallel_backend` context.\n",
        "        ``-1`` means using all processors. See :term:`Glossary <n_jobs>`\n",
        "        for more details.\n",
        "\n",
        "    scoring : str or callable, default=None\n",
        "        A str (see model evaluation documentation) or\n",
        "        a scorer callable object / function with signature\n",
        "        ``scorer(estimator, X, y)``.\n",
        "\n",
        "    train_sizes : array-like of shape (n_ticks,)\n",
        "        Relative or absolute numbers of training examples that will be used to\n",
        "        generate the learning curve. If the ``dtype`` is float, it is regarded\n",
        "        as a fraction of the maximum size of the training set (that is\n",
        "        determined by the selected validation method), i.e. it has to be within\n",
        "        (0, 1]. Otherwise it is interpreted as absolute sizes of the training\n",
        "        sets. Note that for classification the number of samples usually have\n",
        "        to be big enough to contain at least one sample from each class.\n",
        "        (default: np.linspace(0.1, 1.0, 5))\n",
        "    \"\"\"\n",
        "    if axes is None:\n",
        "        _, axes = plt.subplots(1, 3, figsize=(20, 5))\n",
        "\n",
        "    axes[0].set_title(title)\n",
        "    if ylim is not None:\n",
        "        axes[0].set_ylim(*ylim)\n",
        "    axes[0].set_xlabel(\"Training examples\")\n",
        "    axes[0].set_ylabel(\"Score\")\n",
        "\n",
        "    train_sizes, train_scores, test_scores, fit_times, _ = learning_curve(\n",
        "        estimator,\n",
        "        X,\n",
        "        y,\n",
        "        scoring=scoring,\n",
        "        cv=cv,\n",
        "        n_jobs=n_jobs,\n",
        "        train_sizes=train_sizes,\n",
        "        return_times=True,\n",
        "    )\n",
        "    train_scores_mean = np.mean(train_scores, axis=1)\n",
        "    train_scores_std = np.std(train_scores, axis=1)\n",
        "    test_scores_mean = np.mean(test_scores, axis=1)\n",
        "    test_scores_std = np.std(test_scores, axis=1)\n",
        "    fit_times_mean = np.mean(fit_times, axis=1)\n",
        "    fit_times_std = np.std(fit_times, axis=1)\n",
        "\n",
        "    # Plot learning curve\n",
        "    axes[0].grid()\n",
        "    axes[0].fill_between(\n",
        "        train_sizes,\n",
        "        train_scores_mean - train_scores_std,\n",
        "        train_scores_mean + train_scores_std,\n",
        "        alpha=0.1,\n",
        "        color=\"r\",\n",
        "    )\n",
        "    axes[0].fill_between(\n",
        "        train_sizes,\n",
        "        test_scores_mean - test_scores_std,\n",
        "        test_scores_mean + test_scores_std,\n",
        "        alpha=0.1,\n",
        "        color=\"g\",\n",
        "    )\n",
        "    axes[0].plot(\n",
        "        train_sizes, train_scores_mean, \"o-\", color=\"r\", label=\"Training score\"\n",
        "    )\n",
        "    axes[0].plot(\n",
        "        train_sizes, test_scores_mean, \"o-\", color=\"g\", label=\"Cross-validation score\"\n",
        "    )\n",
        "    axes[0].legend(loc=\"best\")\n",
        "\n",
        "    # Plot n_samples vs fit_times\n",
        "    axes[1].grid()\n",
        "    axes[1].plot(train_sizes, fit_times_mean, \"o-\")\n",
        "    axes[1].fill_between(\n",
        "        train_sizes,\n",
        "        fit_times_mean - fit_times_std,\n",
        "        fit_times_mean + fit_times_std,\n",
        "        alpha=0.1,\n",
        "    )\n",
        "    axes[1].set_xlabel(\"Training examples\")\n",
        "    axes[1].set_ylabel(\"fit_times\")\n",
        "    axes[1].set_title(\"Scalability of the model\")\n",
        "\n",
        "    # Plot fit_time vs score\n",
        "    fit_time_argsort = fit_times_mean.argsort()\n",
        "    fit_time_sorted = fit_times_mean[fit_time_argsort]\n",
        "    test_scores_mean_sorted = test_scores_mean[fit_time_argsort]\n",
        "    test_scores_std_sorted = test_scores_std[fit_time_argsort]\n",
        "    axes[2].grid()\n",
        "    axes[2].plot(fit_time_sorted, test_scores_mean_sorted, \"o-\")\n",
        "    axes[2].fill_between(\n",
        "        fit_time_sorted,\n",
        "        test_scores_mean_sorted - test_scores_std_sorted,\n",
        "        test_scores_mean_sorted + test_scores_std_sorted,\n",
        "        alpha=0.1,\n",
        "    )\n",
        "    axes[2].set_xlabel(\"fit_times\")\n",
        "    axes[2].set_ylabel(\"Score\")\n",
        "    axes[2].set_title(\"Performance of the model\")\n",
        "\n",
        "    return plt\n",
        "\n",
        "\n",
        "fig, axes = plt.subplots(3, 2, figsize=(10, 15))\n",
        "\n",
        "X = X\n",
        "y= y\n",
        "\n",
        "title = \"Learning Curves (mlp_clf)\"\n",
        "# Cross validation with 50 iterations to get smoother mean test and train\n",
        "# score curves, each time with 20% data randomly selected as a validation set.\n",
        "cv = ShuffleSplit(n_splits=50, test_size=0.2, random_state=0)\n",
        "\n",
        "estimator = mlp_clf\n",
        "plot_learning_curve(\n",
        "    estimator,\n",
        "    title,\n",
        "    X,\n",
        "    y,\n",
        "    axes=axes[:, 0],\n",
        "    ylim=(0.7, 1.01),\n",
        "    cv=cv,\n",
        "    n_jobs=-1,\n",
        "    scoring=\"accuracy\",\n",
        ")\n",
        "\n",
        "plt.show()"
      ]
    },
    {
      "cell_type": "code",
      "execution_count": null,
      "metadata": {
        "colab": {
          "base_uri": "https://localhost:8080/"
        },
        "id": "hwcDYMBn2Mmy",
        "outputId": "9ef62a44-0874-4d15-8286-26c5e2d07708"
      },
      "outputs": [
        {
          "data": {
            "text/plain": [
              "0.9333333333333333"
            ]
          },
          "execution_count": 135,
          "metadata": {},
          "output_type": "execute_result"
        }
      ],
      "source": [
        "from sklearn.metrics import f1_score\n",
        "f1_score(y_test, y_pred, average='micro')"
      ]
    },
    {
      "cell_type": "code",
      "execution_count": null,
      "metadata": {
        "colab": {
          "base_uri": "https://localhost:8080/"
        },
        "id": "-kkGfftu6VdB",
        "outputId": "9d85b97f-5c6f-4560-b245-b5f0fe6fe454"
      },
      "outputs": [
        {
          "data": {
            "text/plain": [
              "(0.9442901234567902, 0.9333333333333333, 0.9357596010227588, None)"
            ]
          },
          "execution_count": 136,
          "metadata": {},
          "output_type": "execute_result"
        }
      ],
      "source": [
        "from sklearn.metrics import precision_recall_fscore_support\n",
        "precision_recall_fscore_support(y_test, y_pred, average='weighted')"
      ]
    },
    {
      "cell_type": "code",
      "execution_count": null,
      "metadata": {
        "id": "1ARoO45gj53h"
      },
      "outputs": [],
      "source": [
        "predictions = clf.predict(X_test)\n",
        "cm = confusion_matrix(y_test, predictions, labels=clf.classes_)"
      ]
    },
    {
      "cell_type": "code",
      "execution_count": null,
      "metadata": {
        "id": "F5oojBsQ4Vl-"
      },
      "outputs": [],
      "source": [
        "print (y_test )"
      ]
    },
    {
      "cell_type": "code",
      "execution_count": null,
      "metadata": {
        "colab": {
          "base_uri": "https://localhost:8080/",
          "height": 331
        },
        "id": "bbWFaZuom3kd",
        "outputId": "57d97eea-9754-4d71-854c-265e02d4013a"
      },
      "outputs": [
        {
          "data": {
            "image/png": "[encoded data removed]",
            "text/plain": [
              "<Figure size 432x288 with 2 Axes>"
            ]
          },
          "metadata": {},
          "output_type": "display_data"
        }
      ],
      "source": [
        "fx = sns.heatmap(cm, annot=True, cmap='YlGnBu')\n",
        "\n",
        "# labels the title and x, y axis of plot\n",
        "fx.set_title('confusion matrix, test set (N=45) \\n\\n');\n",
        "fx.set_xlabel('Predicted label')\n",
        "fx.set_ylabel('Actual label ');\n",
        "\n",
        "# labels the boxes\n",
        "labels = df['score'].astype('category').cat.categories.tolist()\n",
        "\n",
        "fx.xaxis.set_ticklabels(labels)\n",
        "fx.yaxis.set_ticklabels(labels)\n",
        "\n",
        "plt.savefig('/content/drive/MyDrive/testcf.svg', dpi=300, bbox_inches='tight')\n",
        "\n",
        "\n",
        "plt.show()"
      ]
    },
    {
      "cell_type": "code",
      "execution_count": null,
      "metadata": {
        "colab": {
          "base_uri": "https://localhost:8080/"
        },
        "id": "wwwp5Cy1VoP8",
        "outputId": "dc80f818-9296-45f4-fd12-80e44fb2075d"
      },
      "outputs": [
        {
          "name": "stdout",
          "output_type": "stream",
          "text": [
            "0.9215686274509803\n"
          ]
        }
      ],
      "source": [
        "#\n",
        "y_predt = mlp_clf.predict(X_train)\n",
        "print(clf.score(X_train, y_train))"
      ]
    },
    {
      "cell_type": "code",
      "execution_count": null,
      "metadata": {
        "id": "ouJsQv4VVtFt"
      },
      "outputs": [],
      "source": [
        "#\n",
        "predictionst = clf.predict(X_train)\n",
        "cmt = confusion_matrix(y_train, predictionst, labels=clf.classes_)"
      ]
    },
    {
      "cell_type": "code",
      "execution_count": null,
      "metadata": {
        "id": "aihThnKS-nNT"
      },
      "outputs": [],
      "source": [
        "y_train[0 :21]"
      ]
    },
    {
      "cell_type": "code",
      "execution_count": null,
      "metadata": {
        "id": "K7V6BfkISodS"
      },
      "outputs": [],
      "source": [
        "y_train[21 :40]"
      ]
    },
    {
      "cell_type": "code",
      "execution_count": null,
      "metadata": {
        "id": "XSvxCVd3gkpY"
      },
      "outputs": [],
      "source": [
        "y_train[20 :40]"
      ]
    },
    {
      "cell_type": "code",
      "execution_count": null,
      "metadata": {
        "id": "L40xbTNzhBQI"
      },
      "outputs": [],
      "source": [
        "y_train[40 :60]"
      ]
    },
    {
      "cell_type": "code",
      "execution_count": null,
      "metadata": {
        "id": "I1fqu7l6hwDe"
      },
      "outputs": [],
      "source": [
        "y_train[60 :74]"
      ]
    },
    {
      "cell_type": "code",
      "execution_count": null,
      "metadata": {
        "id": "zsdGxeCyiGPH"
      },
      "outputs": [],
      "source": [
        "y_train[74 :90]"
      ]
    },
    {
      "cell_type": "code",
      "execution_count": null,
      "metadata": {
        "id": "Iz8H2f2qih1e"
      },
      "outputs": [],
      "source": [
        "y_train[90:102]"
      ]
    },
    {
      "cell_type": "code",
      "execution_count": null,
      "metadata": {
        "id": "EtVGpxtqSwsJ"
      },
      "outputs": [],
      "source": [
        "print(predictionst)"
      ]
    },
    {
      "cell_type": "code",
      "execution_count": null,
      "metadata": {
        "id": "FJNCRag-EGoi"
      },
      "outputs": [],
      "source": [
        "predictionst.shape"
      ]
    },
    {
      "cell_type": "code",
      "execution_count": null,
      "metadata": {
        "colab": {
          "base_uri": "https://localhost:8080/",
          "height": 331
        },
        "id": "rR0QHU1sJRA4",
        "outputId": "5426bb03-4286-4098-a4ad-de5240aee80a"
      },
      "outputs": [
        {
          "data": {
            "image/png": "[encoded data removed]",
            "text/plain": [
              "<Figure size 432x288 with 2 Axes>"
            ]
          },
          "metadata": {},
          "output_type": "display_data"
        }
      ],
      "source": [
        "fx = sns.heatmap(cmt, annot=True, cmap='YlGnBu')\n",
        "\n",
        "# labels the title and x, y axis of plot\n",
        "fx.set_title('confusion matrix, train set (N=102) \\n\\n');\n",
        "fx.set_xlabel('Predicted label')\n",
        "fx.set_ylabel('Actual label ');\n",
        "\n",
        "# labels the boxes\n",
        "fx.xaxis.set_ticklabels(labels)\n",
        "fx.yaxis.set_ticklabels(labels)\n",
        "plt.savefig('/content/drive/MyDrive/traincf.svg', dpi=300, bbox_inches='tight')\n",
        "\n",
        "plt.show()"
      ]
    },
    {
      "cell_type": "code",
      "execution_count": null,
      "metadata": {
        "colab": {
          "base_uri": "https://localhost:8080/"
        },
        "id": "M9tjXfSAn_Lu",
        "outputId": "8675b976-064c-4f25-dd7f-bd83d15c36a2"
      },
      "outputs": [
        {
          "name": "stdout",
          "output_type": "stream",
          "text": [
            "training\n",
            "------------------------------------------------------- \n",
            "              precision    recall  f1-score   support\n",
            "\n",
            "          D1       1.00      0.85      0.92        20\n",
            "          D2       0.88      0.92      0.90        38\n",
            "          D3       0.92      0.94      0.93        35\n",
            "          D4       1.00      1.00      1.00         9\n",
            "\n",
            "    accuracy                           0.92       102\n",
            "   macro avg       0.95      0.93      0.94       102\n",
            "weighted avg       0.92      0.92      0.92       102\n",
            "\n",
            "testing\n",
            "------------------------------------------------------- \n",
            "              precision    recall  f1-score   support\n",
            "\n",
            "          D1       1.00      0.90      0.95        10\n",
            "          D2       0.94      0.88      0.91        17\n",
            "          D3       0.94      1.00      0.97        17\n",
            "          D4       0.50      1.00      0.67         1\n",
            "\n",
            "    accuracy                           0.93        45\n",
            "   macro avg       0.85      0.95      0.87        45\n",
            "weighted avg       0.94      0.93      0.94        45\n",
            "\n"
          ]
        }
      ],
      "source": [
        "print(\"training\")\n",
        "print(\"------------------------------------------------------- \")\n",
        "\n",
        "print(classification_report(y_train, predictionst, target_names=labels))\n",
        "print(\"testing\")\n",
        "print(\"------------------------------------------------------- \")\n",
        "print(classification_report(y_test, predictions, target_names=labels))\n",
        "\n"
      ]
    },
    {
      "cell_type": "markdown",
      "metadata": {
        "id": "EQDiWWV1Y4_o"
      },
      "source": [
        "# New Section"
      ]
    },
    {
      "cell_type": "markdown",
      "metadata": {
        "id": "BbIaVX2J1E2W"
      },
      "source": [
        "###ANN Model :"
      ]
    },
    {
      "cell_type": "code",
      "execution_count": null,
      "metadata": {
        "colab": {
          "base_uri": "https://localhost:8080/"
        },
        "id": "4CW9T8NJxp5i",
        "outputId": "b18de97b-fcce-424f-e414-21434847183d"
      },
      "outputs": [
        {
          "data": {
            "text/plain": [
              "(102, 4)"
            ]
          },
          "execution_count": 26,
          "metadata": {},
          "output_type": "execute_result"
        }
      ],
      "source": [
        "X_train.shape"
      ]
    },
    {
      "cell_type": "code",
      "execution_count": null,
      "metadata": {
        "colab": {
          "base_uri": "https://localhost:8080/"
        },
        "id": "9k7GWTJywkUy",
        "outputId": "7686e53a-0921-4560-e482-6f143f14b36a"
      },
      "outputs": [
        {
          "name": "stdout",
          "output_type": "stream",
          "text": [
            "Accuracy train : 0.95\n",
            "test Accuracy: 0.95\n"
          ]
        },
        {
          "name": "stderr",
          "output_type": "stream",
          "text": [
            "/usr/local/lib/python3.7/dist-packages/sklearn/neural_network/_multilayer_perceptron.py:696: ConvergenceWarning: Stochastic Optimizer: Maximum iterations (300) reached and the optimization hasn't converged yet.\n",
            "  ConvergenceWarning,\n"
          ]
        }
      ],
      "source": [
        "ann = MLPClassifier(hidden_layer_sizes=(150,100,50), random_state=0, max_iter=300 ,\n",
        "                    activation='tanh',solver='adam'  ).fit(X_train, y_train)\n",
        "pred_y_t= ann.predict(X_train)\n",
        "#print(ann.accuracy_score(y_train, pred_y_t))\n",
        "print('Accuracy train : {:.2f}'.format(ann.score(X_train, y_train)))\n",
        "y_pred = ann.predict(X_test)\n",
        "#print(ann.accuracy_score(y_test, y_pred))\n",
        "print('test Accuracy: {:.2f}'.format(ann.score(X_test, y_test)))"
      ]
    },
    {
      "cell_type": "code",
      "execution_count": null,
      "metadata": {
        "colab": {
          "base_uri": "https://localhost:8080/"
        },
        "id": "uayayceTgXs2",
        "outputId": "94b2134a-3847-4e5b-8db7-ee0a6501c188"
      },
      "outputs": [
        {
          "name": "stdout",
          "output_type": "stream",
          "text": [
            "train\n",
            "Accuracy: 0.95\n",
            "test\n",
            "Accuracy: 0.91\n"
          ]
        }
      ],
      "source": [
        "ann = MLPClassifier(hidden_layer_sizes=(150,150,50), random_state=1, max_iter=500 , activation='relu',\n",
        "                      \n",
        "                      ).fit(X_train, y_train)\n",
        "print(\"train\")\n",
        "pred_y_t= ann.predict(X_train)\n",
        "#print(ann.score(X_train, y_train))\n",
        "print('Accuracy: {:.2f}'.format(accuracy_score(y_train, pred_y_t)))\n",
        "print(\"test\")\n",
        "y_pred = ann.predict(X_test)\n",
        "#print(ann.score(X_test, y_test))\n",
        "print('Accuracy: {:.2f}'.format(accuracy_score(y_test, y_pred)))"
      ]
    },
    {
      "cell_type": "code",
      "execution_count": null,
      "metadata": {
        "colab": {
          "base_uri": "https://localhost:8080/"
        },
        "id": "9mrynWtZbMgh",
        "outputId": "f4c30314-c166-493e-daa9-9a159d99d153"
      },
      "outputs": [
        {
          "name": "stdout",
          "output_type": "stream",
          "text": [
            "{'activation': 'tanh', 'hidden_layer_sizes': (180, 100, 50), 'learning_rate': 'constant', 'max_iter': 400, 'solver': 'adam'}\n",
            "Accuracy: 0.84\n"
          ]
        },
        {
          "name": "stderr",
          "output_type": "stream",
          "text": [
            "/usr/local/lib/python3.7/dist-packages/sklearn/neural_network/_multilayer_perceptron.py:696: ConvergenceWarning: Stochastic Optimizer: Maximum iterations (400) reached and the optimization hasn't converged yet.\n",
            "  ConvergenceWarning,\n"
          ]
        }
      ],
      "source": [
        "param_grid = {\n",
        "    'hidden_layer_sizes': [(180,100,50), (150,100 ,50), (100,100,50)],\n",
        "    'max_iter': [200, 300, 400 ,500],\n",
        "    'activation': ['tanh' , 'relu'],\n",
        "    'solver': ['adam' , 'sgd'],\n",
        "    'learning_rate': ['constant','adaptive'],\n",
        "}\n",
        "\n",
        "grid = GridSearchCV(ann, param_grid, n_jobs= -1, cv=5)\n",
        "grid.fit(X_train, y_train)\n",
        "print(grid.best_params_) \n",
        "\n",
        "grid_predictions = grid.predict(X_test)\n",
        "print('Accuracy: {:.2f}'.format(accuracy_score(y_test, grid_predictions)))\n"
      ]
    },
    {
      "cell_type": "code",
      "execution_count": null,
      "metadata": {
        "colab": {
          "base_uri": "https://localhost:8080/",
          "height": 296
        },
        "id": "Jhs2G73Pz3Au",
        "outputId": "00a72e0d-5b22-49a4-8118-0b979e10192c"
      },
      "outputs": [
        {
          "data": {
            "image/png": "[encoded data removed]",
            "text/plain": [
              "<Figure size 432x288 with 1 Axes>"
            ]
          },
          "metadata": {},
          "output_type": "display_data"
        }
      ],
      "source": [
        "plt.plot(ann.loss_curve_)\n",
        "plt.title(\"Loss Curve\", fontsize=14)\n",
        "plt.xlabel('Iterations')\n",
        "plt.ylabel('Cost')\n",
        "plt.show()"
      ]
    },
    {
      "cell_type": "code",
      "execution_count": null,
      "metadata": {
        "colab": {
          "base_uri": "https://localhost:8080/",
          "height": 325
        },
        "id": "aCl1CNuh0qj8",
        "outputId": "6d131f4a-deec-432c-d477-ee170223d6ff"
      },
      "outputs": [
        {
          "data": {
            "image/png": "[encoded data removed]",
            "text/plain": [
              "<Figure size 432x288 with 2 Axes>"
            ]
          },
          "metadata": {},
          "output_type": "display_data"
        }
      ],
      "source": [
        "cm = confusion_matrix(y_train, pred_y_t, labels=ann.classes_)\n",
        "fx = sns.heatmap(cm, annot=True, cmap='YlGnBu')\n",
        "\n",
        "# labels the title and x, y axis of plot\n",
        "fx.set_title('confusion matrix,train set (N=102) \\n\\n');\n",
        "fx.set_xlabel('Predicted label')\n",
        "fx.set_ylabel('Actual label ');\n",
        "\n",
        "# labels the boxes\n",
        "labels = df['score'].astype('category').cat.categories.tolist()\n",
        "\n",
        "fx.xaxis.set_ticklabels(labels)\n",
        "fx.yaxis.set_ticklabels(labels)\n",
        "\n",
        "plt.savefig('/content/drive/MyDrive/train102mlp95.svg', dpi=300, bbox_inches='tight')\n",
        "\n",
        "\n",
        "plt.show()"
      ]
    },
    {
      "cell_type": "code",
      "execution_count": null,
      "metadata": {
        "colab": {
          "base_uri": "https://localhost:8080/",
          "height": 325
        },
        "id": "04pxyc0ciYdc",
        "outputId": "e0b3f7de-3066-4be9-bec4-dc316755cf61"
      },
      "outputs": [
        {
          "data": {
            "image/png": "[encoded data removed]",
            "text/plain": [
              "<Figure size 432x288 with 2 Axes>"
            ]
          },
          "metadata": {},
          "output_type": "display_data"
        }
      ],
      "source": [
        "predictions = ann.predict(X_test)\n",
        "#y_pred = ann.predict(X_test)\n",
        "cm = confusion_matrix(y_test, predictions, labels=ann.classes_)\n",
        "fx = sns.heatmap(cm, annot=True, cmap='YlGnBu')\n",
        "\n",
        "# labels the title and x, y axis of plot\n",
        "fx.set_title('confusion matrix,  test set (N=44)  \\n\\n');\n",
        "fx.set_xlabel('Predicted label')\n",
        "fx.set_ylabel('Actual label ');\n",
        "\n",
        "# labels the boxes\n",
        "labels = df['score'].astype('category').cat.categories.tolist()\n",
        "\n",
        "fx.xaxis.set_ticklabels(labels)\n",
        "fx.yaxis.set_ticklabels(labels)\n",
        "\n",
        "plt.savefig('/content/drive/MyDrive/testmlp95.svg', dpi=300, bbox_inches='tight')\n",
        "\n",
        "\n",
        "plt.show()"
      ]
    },
    {
      "cell_type": "code",
      "execution_count": null,
      "metadata": {
        "colab": {
          "base_uri": "https://localhost:8080/"
        },
        "id": "6KkyxmIVRPdM",
        "outputId": "4614667d-b7e3-465d-b0c2-97e5bf37ee86"
      },
      "outputs": [
        {
          "name": "stdout",
          "output_type": "stream",
          "text": [
            "training\n",
            "------------------------------------------------------- \n",
            "              precision    recall  f1-score   support\n",
            "\n",
            "          D1       1.00      0.86      0.92        21\n",
            "          D2       0.88      1.00      0.94        37\n",
            "          D3       1.00      0.95      0.97        37\n",
            "          D4       1.00      1.00      1.00         7\n",
            "\n",
            "    accuracy                           0.95       102\n",
            "   macro avg       0.97      0.95      0.96       102\n",
            "weighted avg       0.96      0.95      0.95       102\n",
            "\n",
            "testing\n",
            "------------------------------------------------------- \n",
            "              precision    recall  f1-score   support\n",
            "\n",
            "          D1       1.00      0.89      0.94         9\n",
            "          D2       0.95      1.00      0.97        18\n",
            "          D3       0.93      1.00      0.97        14\n",
            "          D4       1.00      0.67      0.80         3\n",
            "\n",
            "    accuracy                           0.95        44\n",
            "   macro avg       0.97      0.89      0.92        44\n",
            "weighted avg       0.96      0.95      0.95        44\n",
            "\n"
          ]
        }
      ],
      "source": [
        "print(\"training\")\n",
        "print(\"------------------------------------------------------- \")\n",
        "\n",
        "print(classification_report(y_train, pred_y_t, target_names=labels))\n",
        "print(\"testing\")\n",
        "print(\"------------------------------------------------------- \")\n",
        "print(classification_report(y_test, predictions, target_names=labels))\n"
      ]
    },
    {
      "cell_type": "code",
      "execution_count": null,
      "metadata": {
        "colab": {
          "base_uri": "https://localhost:8080/"
        },
        "id": "-hUhHW7n0tVc",
        "outputId": "ac40079f-2c90-4511-9988-4474b0f141bc"
      },
      "outputs": [
        {
          "name": "stdout",
          "output_type": "stream",
          "text": [
            "              precision    recall  f1-score   support\n",
            "\n",
            "          D1       1.00      1.00      1.00        10\n",
            "          D2       1.00      0.88      0.94        17\n",
            "          D3       0.94      1.00      0.97        17\n",
            "          D4       0.50      1.00      0.67         1\n",
            "\n",
            "    accuracy                           0.96        45\n",
            "   macro avg       0.86      0.97      0.89        45\n",
            "weighted avg       0.97      0.96      0.96        45\n",
            "\n"
          ]
        }
      ],
      "source": [
        "print(classification_report(y_test, predictions, target_names=labels))"
      ]
    },
    {
      "cell_type": "code",
      "execution_count": null,
      "metadata": {
        "colab": {
          "base_uri": "https://localhost:8080/",
          "height": 296
        },
        "id": "Z1qDR5AA1A0U",
        "outputId": "00cbc539-e00d-4df2-d760-1fb59fa05cb0"
      },
      "outputs": [
        {
          "data": {
            "image/png": "[encoded data removed]",
            "text/plain": [
              "<Figure size 432x288 with 1 Axes>"
            ]
          },
          "metadata": {},
          "output_type": "display_data"
        }
      ],
      "source": [
        "plt.plot(ann.loss_curve_)\n",
        "plt.title(\"Loss Curve\", fontsize=14)\n",
        "plt.xlabel('Iterations')\n",
        "plt.ylabel('Cost')\n",
        "plt.show()"
      ]
    },
    {
      "cell_type": "code",
      "execution_count": null,
      "metadata": {
        "colab": {
          "base_uri": "https://localhost:8080/"
        },
        "id": "tLdewP8vWLRQ",
        "outputId": "0e7d9d42-29b2-496a-ca08-eb22619df7dc"
      },
      "outputs": [
        {
          "data": {
            "text/plain": [
              "63     2\n",
              "7      2\n",
              "86     3\n",
              "96     2\n",
              "68     3\n",
              "50     2\n",
              "101    3\n",
              "20     3\n",
              "25     3\n",
              "134    3\n",
              "71     2\n",
              "129    3\n",
              "79     4\n",
              "133    3\n",
              "137    1\n",
              "72     2\n",
              "140    3\n",
              "37     1\n",
              "Name: score, dtype: int64"
            ]
          },
          "execution_count": 27,
          "metadata": {},
          "output_type": "execute_result"
        }
      ],
      "source": [
        "y_train[84 : 102]"
      ]
    },
    {
      "cell_type": "code",
      "execution_count": null,
      "metadata": {
        "colab": {
          "base_uri": "https://localhost:8080/"
        },
        "id": "YQra-60bWXxu",
        "outputId": "d77c8b50-f746-4dd2-8466-9dfb9d0cb51a"
      },
      "outputs": [
        {
          "data": {
            "text/plain": [
              "array([4, 2, 1, 2, 3, 2, 3, 2, 3, 3, 3, 1, 4, 3, 1, 2, 3, 2, 2, 2, 2, 4,\n",
              "       2, 3, 3, 3, 2, 2, 3, 2, 3, 2, 4, 2, 3, 3, 2, 2, 1, 3, 2, 1, 2, 3,\n",
              "       1, 1, 4, 1, 3, 1, 3, 1, 1, 3, 3, 2, 2, 2, 2, 2, 2, 3, 2, 1, 4, 1,\n",
              "       2, 1, 2, 3, 2, 3, 3, 1, 3, 2, 2, 2, 3, 2, 3, 2, 1, 2, 2, 2, 3, 2,\n",
              "       3, 2, 3, 3, 3, 3, 2, 3, 4, 2, 1, 2, 3, 1])"
            ]
          },
          "execution_count": 69,
          "metadata": {},
          "output_type": "execute_result"
        }
      ],
      "source": []
    },
    {
      "cell_type": "code",
      "execution_count": null,
      "metadata": {
        "colab": {
          "base_uri": "https://localhost:8080/"
        },
        "id": "pgXC31skp9bI",
        "outputId": "a55de332-2916-43e9-c492-6d198ada6392"
      },
      "outputs": [
        {
          "data": {
            "text/plain": [
              "31     4\n",
              "122    3\n",
              "48     3\n",
              "19     3\n",
              "141    2\n",
              "116    2\n",
              "92     1\n",
              "78     3\n",
              "124    3\n",
              "51     2\n",
              "42     2\n",
              "108    1\n",
              "28     1\n",
              "40     2\n",
              "104    3\n",
              "45     3\n",
              "17     1\n",
              "69     3\n",
              "77     2\n",
              "54     2\n",
              "110    2\n",
              "18     2\n",
              "Name: score, dtype: int64"
            ]
          },
          "execution_count": 34,
          "metadata": {},
          "output_type": "execute_result"
        }
      ],
      "source": [
        "y_test[22:44]"
      ]
    },
    {
      "cell_type": "code",
      "execution_count": null,
      "metadata": {
        "colab": {
          "base_uri": "https://localhost:8080/"
        },
        "id": "FtNQf5Erp8BQ",
        "outputId": "9dbb3ee1-2afc-4f76-a4ee-14f99a201506"
      },
      "outputs": [
        {
          "data": {
            "text/plain": [
              "array([1, 2, 1, 2, 2, 2, 1, 3, 3, 2, 2, 2, 3, 2, 1, 4, 2, 1, 3, 3, 3, 3,\n",
              "       4, 3, 3, 3, 2, 2, 1, 3, 3, 2, 2, 2, 1, 2, 3, 3, 1, 3, 2, 2, 2, 2])"
            ]
          },
          "execution_count": 38,
          "metadata": {},
          "output_type": "execute_result"
        }
      ],
      "source": [
        "predictions"
      ]
    }
  ],
  "metadata": {
    "colab": {
      "collapsed_sections": [
        "IuLEFIQRc2vh",
        "c9ov2AGscjgE"
      ],
      "provenance": []
    },
    "gpuClass": "standard",
    "kernelspec": {
      "display_name": "Python 3",
      "name": "python3"
    },
    "language_info": {
      "name": "python"
    }
  },
  "nbformat": 4,
  "nbformat_minor": 0
}